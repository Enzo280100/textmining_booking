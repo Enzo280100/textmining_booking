{
 "cells": [
  {
   "cell_type": "markdown",
   "metadata": {},
   "source": [
    "# **Homework 1 - Text Mining**\n",
    "\n",
    "## Group Members:\n",
    "1. **Tarang Kadyan**  \n",
    "   <tarang.kadyan@bse.eu>\n",
    "\n",
    "2. **Oriol Gelabert**  \n",
    "   <oriol.gelabert@bse.eu>\n",
    "\n",
    "3. **Enzo Infantes**  \n",
    "   <enzo.infantes@bse.eu>\n",
    "\n",
    "<img src='https://upload.wikimedia.org/wikipedia/commons/4/41/BSE_primary_logo_color.jpg' width=300 />"
   ]
  },
  {
   "cell_type": "markdown",
   "metadata": {},
   "source": [
    "# **1. Libraries**"
   ]
  },
  {
   "cell_type": "code",
   "execution_count": 1,
   "metadata": {},
   "outputs": [],
   "source": [
    "from selenium.webdriver.common.by import By\n",
    "from selenium.common.exceptions import NoSuchElementException, ElementClickInterceptedException, StaleElementReferenceException\n",
    "from selenium import webdriver\n",
    "import os\n",
    "import time\n",
    "from selenium import webdriver\n",
    "from selenium.webdriver.firefox.service import Service\n",
    "from selenium.webdriver.firefox.options import Options"
   ]
  },
  {
   "cell_type": "markdown",
   "metadata": {},
   "source": [
    "## Preferences\n",
    "This contains past preferences such as passwords, cookie acceptance etc."
   ]
  },
  {
   "cell_type": "code",
   "execution_count": 5,
   "metadata": {},
   "outputs": [],
   "source": [
    "def ffx_preferences(dfolder, download=False):\n",
    "    '''\n",
    "    Sets the preferences of the firefox browser: download path.\n",
    "    '''\n",
    "    profile = webdriver.FirefoxProfile()\n",
    "    # set download folder:\n",
    "    profile.set_preference(\"browser.download.dir\", dfolder) # you can predefine where you wanna store things in case its needed\n",
    "    profile.set_preference(\"browser.download.folderList\", 2) # 0 means to download to the desktop, 1 means to download to the default \"Downloads\" directory, 2 means to use the directory\n",
    "    profile.set_preference(\"browser.download.manager.showWhenStarting\", False) #I dont wanna see a pop up for each download so i swith it off\n",
    "    profile.set_preference(\"browser.helperApps.neverAsk.saveToDisk\",\n",
    "                           \"application/msword,application/rtf, application/csv,text/csv,image/png ,image/jpeg, application/pdf, text/html,text/plain,application/octet-stream\")\n",
    "\n",
    "    # profile.install_addon('/Users/luisignaciomenendezgarcia/Dropbox/CLASSES/class_bse_text_mining/class_scraping_bse_2025/booking/booking/ublock_origin-1.55.0.xpi')\n",
    "    # profile.add_extension('/Users/luisignaciomenendezgarcia/Dropbox/CLASSES/class_bse_text_mining/class_scraping_bse/booking/booking/ublock_origin-1.55.0.xpi')\n",
    "\n",
    "\n",
    "    # this allows to download pdfs automatically\n",
    "    if download:\n",
    "        profile.set_preference(\"browser.helperApps.neverAsk.saveToDisk\", \"application/pdf,application/x-pdf\")\n",
    "        profile.set_preference(\"pdfjs.disabled\", True) #dont want the pdf viewer to open\n",
    "\n",
    "\n",
    "    options = Options()\n",
    "    options.profile = profile\n",
    "    options.binary_location = r\"C:\\Program Files\\Mozilla Firefox\\firefox.exe\" #path to firefox (change it to your path)\n",
    "\n",
    "    return options\n",
    "\n",
    "\n",
    "def start_up(link, dfolder, geko_path,donwload=True):\n",
    "    # geko_path='/Users/luisignaciomenendezgarcia/Dropbox/CLASSES/class_bse_text_mining/class_scraping_bse/booking/geckodriver'\n",
    "    # download_path='./downloads'\n",
    "    os.makedirs(dfolder, exist_ok=True)\n",
    "\n",
    "    options = ffx_preferences(dfolder,donwload)\n",
    "    service = Service(geko_path)\n",
    "    browser = webdriver.Firefox(service=service, options=options)\n",
    "    # Enter the website address here\n",
    "    browser.get(link)\n",
    "    time.sleep(5)  # Adjust sleep time as needed\n",
    "    return browser\n",
    "\n",
    "\n",
    "def check_and_click(browser, xpath, type):\n",
    "    '''\n",
    "    Function that checks whether the object is clickable and, if so, clicks on\n",
    "    it. If not, waits one second and tries again.\n",
    "    '''\n",
    "    ck = False\n",
    "    ss = 0\n",
    "    while ck == False:\n",
    "        ck = check_obscures(browser, xpath, type)\n",
    "        time.sleep(1)\n",
    "        ss += 1\n",
    "        if ss == 15:\n",
    "            # warn_sound()\n",
    "            # return NoSuchElementException\n",
    "            ck = True\n",
    "            # browser.quit()\n",
    "\n",
    "def check_obscures(browser, xpath, type):\n",
    "    '''\n",
    "    Function that checks whether the object is being \"obscured\" by any element so\n",
    "    that it is not clickable. Important: if True, the object is going to be clicked!\n",
    "    '''\n",
    "    try:\n",
    "        if type == \"xpath\":\n",
    "            browser.find_element('xpath',xpath).click()\n",
    "        elif type == \"id\":\n",
    "            browser.find_element('id',xpath).click()\n",
    "        elif type == \"css\":\n",
    "            browser.find_element('css selector',xpath).click()\n",
    "        elif type == \"class\":\n",
    "            browser.find_element('class name',xpath).click()\n",
    "        elif type == \"link\":\n",
    "            browser.find_element('link text',xpath).click()\n",
    "    except (ElementClickInterceptedException, NoSuchElementException, StaleElementReferenceException) as e:\n",
    "        print(e)\n",
    "        return False\n",
    "    return True"
   ]
  },
  {
   "cell_type": "markdown",
   "metadata": {},
   "source": [
    "Open Booking.com website to start our search:"
   ]
  },
  {
   "cell_type": "code",
   "execution_count": 7,
   "metadata": {},
   "outputs": [],
   "source": [
    "# lets open booking:\n",
    "dfolder= os.getcwd()\n",
    "geko_path = os.path.join(dfolder, 'geckodriver.exe')\n",
    "link='https://www.booking.com/index.es.html'\n",
    "\n",
    "\n",
    "browser=start_up(dfolder=dfolder,link=link,geko_path=geko_path)"
   ]
  },
  {
   "cell_type": "markdown",
   "metadata": {},
   "source": [
    "Reject Cookies: The following cell closes Rejects the cookies, closing the banner and avoiding possible interference when scrapping."
   ]
  },
  {
   "cell_type": "code",
   "execution_count": 8,
   "metadata": {},
   "outputs": [],
   "source": [
    "path_cookies='//button[@id=\"onetrust-reject-all-handler\"]'\n",
    "cookies= browser.find_elements('xpath',path_cookies)\n",
    "cookies[0].click()"
   ]
  },
  {
   "cell_type": "markdown",
   "metadata": {},
   "source": [
    "Close Google Log-in"
   ]
  },
  {
   "cell_type": "markdown",
   "metadata": {},
   "source": [
    "Google Log-In Pop-Up is inside an Iframe object, so we should first acces to the iframe and latter to the element we are willing to click, in this case the close button of this pop-up."
   ]
  },
  {
   "cell_type": "code",
   "execution_count": 9,
   "metadata": {},
   "outputs": [],
   "source": [
    "iframe_google = browser.find_elements(By.TAG_NAME,'iframe')[0] #we find the iframe object\n",
    "browser.switch_to.frame(iframe_google) #switch to acces the iframe"
   ]
  },
  {
   "cell_type": "code",
   "execution_count": 10,
   "metadata": {},
   "outputs": [],
   "source": [
    "close_log_in = browser.find_element(By.CSS_SELECTOR, '#close') # find the close button element\n",
    "close_log_in.click() #click on it to close the pop-up\n",
    "browser.switch_to.default_content() #switch back the browser to default to exit the iframe and continue web-scrapping"
   ]
  },
  {
   "cell_type": "markdown",
   "metadata": {},
   "source": [
    "Find ''Where are you Going?'' Box and click on it:"
   ]
  },
  {
   "cell_type": "code",
   "execution_count": 11,
   "metadata": {},
   "outputs": [],
   "source": [
    "browser.find_element(by=By.XPATH,value='//*[@id=\":rh:\"]').click()"
   ]
  },
  {
   "cell_type": "markdown",
   "metadata": {},
   "source": [
    "We initially will search hotels in Barcelona, so we should input this value on the searchbox:"
   ]
  },
  {
   "cell_type": "code",
   "execution_count": 12,
   "metadata": {},
   "outputs": [],
   "source": [
    "place = 'Barcelona'\n",
    "search1 = browser.find_element(by=By.NAME,value='ss')\n",
    "search1.send_keys(place)"
   ]
  },
  {
   "cell_type": "markdown",
   "metadata": {},
   "source": [
    "Now, we select the dates of the event we wnat to track, in our case MWC. This event is hosted between 3-6 March, so our initial serach will be on the week of 1-8 March."
   ]
  },
  {
   "cell_type": "markdown",
   "metadata": {},
   "source": [
    "First we open the selector of dates:"
   ]
  },
  {
   "cell_type": "code",
   "execution_count": 13,
   "metadata": {},
   "outputs": [],
   "source": [
    "css='button.ebbedaf8ac:nth-child(2) > span:nth-child(1)'\n",
    "\n",
    "browser.find_element('css selector', css).click()"
   ]
  },
  {
   "cell_type": "markdown",
   "metadata": {},
   "source": [
    "Advance to next month, to be able to select March dates:"
   ]
  },
  {
   "cell_type": "code",
   "execution_count": 14,
   "metadata": {},
   "outputs": [],
   "source": [
    "path_next_month='//button[@class=\"a83ed08757 c21c56c305 f38b6daa18 d691166b09 f671049264 f4552b6561 dc72a8413c f073249358\"]'\n",
    "next_month= browser.find_elements('xpath',path_next_month)\n",
    "next_month[0].click()"
   ]
  },
  {
   "cell_type": "markdown",
   "metadata": {},
   "source": [
    "We acces all dates that are now visible, including both February and March:"
   ]
  },
  {
   "cell_type": "code",
   "execution_count": 15,
   "metadata": {},
   "outputs": [
    {
     "name": "stdout",
     "output_type": "stream",
     "text": [
      "2025-02-01\n",
      "2025-02-02\n",
      "2025-02-03\n",
      "2025-02-04\n",
      "2025-02-05\n",
      "2025-02-06\n",
      "2025-02-07\n",
      "2025-02-08\n",
      "2025-02-09\n",
      "2025-02-10\n",
      "2025-02-11\n",
      "2025-02-12\n",
      "2025-02-13\n",
      "2025-02-14\n",
      "2025-02-15\n",
      "2025-02-16\n",
      "2025-02-17\n",
      "2025-02-18\n",
      "2025-02-19\n",
      "2025-02-20\n",
      "2025-02-21\n",
      "2025-02-22\n",
      "2025-02-23\n",
      "2025-02-24\n",
      "2025-02-25\n",
      "2025-02-26\n",
      "2025-02-27\n",
      "2025-02-28\n",
      "2025-03-01\n",
      "2025-03-02\n",
      "2025-03-03\n",
      "2025-03-04\n",
      "2025-03-05\n",
      "2025-03-06\n",
      "2025-03-07\n",
      "2025-03-08\n",
      "2025-03-09\n",
      "2025-03-10\n",
      "2025-03-11\n",
      "2025-03-12\n",
      "2025-03-13\n",
      "2025-03-14\n",
      "2025-03-15\n",
      "2025-03-16\n",
      "2025-03-17\n",
      "2025-03-18\n",
      "2025-03-19\n",
      "2025-03-20\n",
      "2025-03-21\n",
      "2025-03-22\n",
      "2025-03-23\n",
      "2025-03-24\n",
      "2025-03-25\n",
      "2025-03-26\n",
      "2025-03-27\n",
      "2025-03-28\n",
      "2025-03-29\n",
      "2025-03-30\n",
      "2025-03-31\n"
     ]
    }
   ],
   "source": [
    "id = \"calendar-searchboxdatepicker\"\n",
    "span_class = \"cf06f772fa ef091eb985\"\n",
    "path = f'//div[@id=\"{id}\"]//table[@class=\"eb03f3f27f\"]//tbody//td[@class=\"b80d5adb18\"]//span[@class=\"{span_class}\"]'\n",
    "dates = browser.find_elements('xpath',path)\n",
    "for date in dates:\n",
    "    print(date.get_attribute(\"data-date\"))"
   ]
  },
  {
   "cell_type": "code",
   "execution_count": 16,
   "metadata": {},
   "outputs": [],
   "source": [
    "from_day = input('Day from which you want to look for (In march)') #important two digits\n",
    "to_day = input('Day until which you want to look for (In march)')\n",
    "\n",
    "\n",
    "for date in dates:\n",
    "    if date.get_attribute(\"data-date\") == f\"2025-03-{from_day}\":\n",
    "        date.click()\n",
    "    if date.get_attribute(\"data-date\") == f\"2025-03-{to_day}\":\n",
    "        date.click()\n",
    "        break"
   ]
  },
  {
   "cell_type": "markdown",
   "metadata": {},
   "source": [
    "Bedroom selection"
   ]
  },
  {
   "cell_type": "code",
   "execution_count": 17,
   "metadata": {},
   "outputs": [],
   "source": [
    "people_selection_path='//button[@class=\"a83ed08757 ebbedaf8ac dbaff8df6f ada2387af8\"]'\n",
    "people_selection= browser.find_elements('xpath',people_selection_path)\n",
    "people_selection[0].click()"
   ]
  },
  {
   "cell_type": "markdown",
   "metadata": {},
   "source": [
    "ONE ADULT MORE"
   ]
  },
  {
   "cell_type": "code",
   "execution_count": 18,
   "metadata": {},
   "outputs": [],
   "source": [
    "path_cookies='//button[@class=\"a83ed08757 c21c56c305 f38b6daa18 d691166b09 ab98298258 bb803d8689 f4d78af12a\"]'\n",
    "cookies= browser.find_elements('xpath',path_cookies)\n",
    "cookies[0].click()"
   ]
  },
  {
   "cell_type": "markdown",
   "metadata": {},
   "source": [
    "ONE ADULT LESS"
   ]
  },
  {
   "cell_type": "code",
   "execution_count": 19,
   "metadata": {},
   "outputs": [],
   "source": [
    "path_cookies='//button[@class=\"a83ed08757 c21c56c305 f38b6daa18 d691166b09 ab98298258 bb803d8689 e91c91fa93\"]'\n",
    "cookies= browser.find_elements('xpath',path_cookies)\n",
    "cookies[0].click()"
   ]
  },
  {
   "cell_type": "markdown",
   "metadata": {},
   "source": []
  },
  {
   "cell_type": "code",
   "execution_count": null,
   "metadata": {},
   "outputs": [],
   "source": [
    "my_xpath=\"/html/body/div[3]/div[2]/div/form/div/div[4]/button/span\"\n",
    "\n",
    "check_obscures(browser, my_xpath , type='xpath')\n",
    "check_and_click(browser,my_xpath , type='xpath')"
   ]
  }
 ],
 "metadata": {
  "kernelspec": {
   "display_name": "Python 3",
   "language": "python",
   "name": "python3"
  },
  "language_info": {
   "codemirror_mode": {
    "name": "ipython",
    "version": 3
   },
   "file_extension": ".py",
   "mimetype": "text/x-python",
   "name": "python",
   "nbconvert_exporter": "python",
   "pygments_lexer": "ipython3",
   "version": "3.13.0"
  }
 },
 "nbformat": 4,
 "nbformat_minor": 2
}
