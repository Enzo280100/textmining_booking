{
  "cells": [
    {
      "cell_type": "markdown",
      "id": "89659207",
      "metadata": {
        "id": "89659207"
      },
      "source": [
        "![bse_logo_textminingcourse](https://bse.eu/sites/default/files/bse_logo_small.png)"
      ]
    },
    {
      "cell_type": "markdown",
      "id": "1625f718",
      "metadata": {
        "id": "1625f718"
      },
      "source": [
        "# Text Mining: Models and Algorithms\n",
        "\n",
        "## Scraping with Selenium\n",
        "\n",
        "We now go to the really cool stuff. Navigating webpages, entering information automatically and then scraping information. No website is better suited for a tutorial than Booking.\n",
        "\n",
        "This code is a lot more complex. We will do a homework to practice this part.\n",
        "\n",
        "\n",
        "\n"
      ]
    },
    {
      "cell_type": "markdown",
      "id": "d51d16b7",
      "metadata": {
        "id": "d51d16b7"
      },
      "source": [
        "## Is it legal?\n",
        "\n",
        "\n",
        "<img src=\"./images/booking.png\" width=\"500\">"
      ]
    },
    {
      "cell_type": "code",
      "execution_count": 1,
      "id": "7259e759",
      "metadata": {
        "id": "7259e759"
      },
      "outputs": [],
      "source": [
        "from selenium.webdriver.common.by import By\n",
        "from selenium.common.exceptions import NoSuchElementException, ElementClickInterceptedException, StaleElementReferenceException\n",
        "from selenium import webdriver\n",
        "import os\n",
        "import time\n",
        "from selenium import webdriver\n",
        "from selenium.webdriver.firefox.service import Service\n",
        "from selenium.webdriver.firefox.options import Options\n",
        "\n",
        "# Go get geckodriver from : https://github.com/mozilla/geckodriver/releases"
      ]
    },
    {
      "cell_type": "markdown",
      "id": "d7f0278e",
      "metadata": {
        "id": "d7f0278e"
      },
      "source": [
        "## Preferences\n",
        "\n",
        "You can download your own profile in a secure place :  Help> Troubleshooting Information> Profile Folder> Open Folder\n",
        "This contains past preferences such as passwords, cookie acceptance etc.\n",
        "I generally recommend not doing it unless its required..."
      ]
    },
    {
      "cell_type": "code",
      "execution_count": 2,
      "id": "1s_CNLl5rPXc",
      "metadata": {
        "id": "1s_CNLl5rPXc"
      },
      "outputs": [],
      "source": [
        "def ffx_preferences(dfolder, download=False):\n",
        "    '''\n",
        "    Sets the preferences of the firefox browser: download path.\n",
        "    '''\n",
        "    profile = webdriver.FirefoxProfile()\n",
        "    # set download folder:\n",
        "    profile.set_preference(\"browser.download.dir\", dfolder) # you can predefine where you wanna store things in case its needed\n",
        "    profile.set_preference(\"browser.download.folderList\", 2) # 0 means to download to the desktop, 1 means to download to the default \"Downloads\" directory, 2 means to use the directory\n",
        "    profile.set_preference(\"browser.download.manager.showWhenStarting\", False) #I dont wanna see a pop up for each download so i swith it off\n",
        "    profile.set_preference(\"browser.helperApps.neverAsk.saveToDisk\",\n",
        "                           \"application/msword,application/rtf, application/csv,text/csv,image/png ,image/jpeg, application/pdf, text/html,text/plain,application/octet-stream\")\n",
        "\n",
        "    # profile.install_addon('/Users/luisignaciomenendezgarcia/Dropbox/CLASSES/class_bse_text_mining/class_scraping_bse_2025/booking/booking/ublock_origin-1.55.0.xpi')\n",
        "    # profile.add_extension('/Users/luisignaciomenendezgarcia/Dropbox/CLASSES/class_bse_text_mining/class_scraping_bse/booking/booking/ublock_origin-1.55.0.xpi')\n",
        "\n",
        "\n",
        "    # this allows to download pdfs automatically\n",
        "    if download:\n",
        "        profile.set_preference(\"browser.helperApps.neverAsk.saveToDisk\", \"application/pdf,application/x-pdf\")\n",
        "        profile.set_preference(\"pdfjs.disabled\", True) #dont want the pdf viewer to open\n",
        "\n",
        "\n",
        "    options = Options()\n",
        "    options.profile = profile\n",
        "    options.binary_location = r\"C:\\Program Files\\Mozilla Firefox\\firefox.exe\" #path to firefox (change it to your path)\n",
        "\n",
        "    return options\n",
        "\n",
        "\n",
        "def start_up(link, dfolder, geko_path,donwload=True):\n",
        "    # geko_path='/Users/luisignaciomenendezgarcia/Dropbox/CLASSES/class_bse_text_mining/class_scraping_bse/booking/geckodriver'\n",
        "    # download_path='./downloads'\n",
        "    os.makedirs(dfolder, exist_ok=True)\n",
        "\n",
        "    options = ffx_preferences(dfolder,donwload)\n",
        "    service = Service(geko_path)\n",
        "    browser = webdriver.Firefox(service=service, options=options)\n",
        "    # Enter the website address here\n",
        "    browser.get(link)\n",
        "    time.sleep(5)  # Adjust sleep time as needed\n",
        "    return browser\n",
        "\n",
        "\n",
        "def check_and_click(browser, xpath, type):\n",
        "    '''\n",
        "    Function that checks whether the object is clickable and, if so, clicks on\n",
        "    it. If not, waits one second and tries again.\n",
        "    '''\n",
        "    ck = False\n",
        "    ss = 0\n",
        "    while ck == False:\n",
        "        ck = check_obscures(browser, xpath, type)\n",
        "        time.sleep(1)\n",
        "        ss += 1\n",
        "        if ss == 15:\n",
        "            # warn_sound()\n",
        "            # return NoSuchElementException\n",
        "            ck = True\n",
        "            # browser.quit()\n",
        "\n",
        "def check_obscures(browser, xpath, type):\n",
        "    '''\n",
        "    Function that checks whether the object is being \"obscured\" by any element so\n",
        "    that it is not clickable. Important: if True, the object is going to be clicked!\n",
        "    '''\n",
        "    try:\n",
        "        if type == \"xpath\":\n",
        "            browser.find_element('xpath',xpath).click()\n",
        "        elif type == \"id\":\n",
        "            browser.find_element('id',xpath).click()\n",
        "        elif type == \"css\":\n",
        "            browser.find_element('css selector',xpath).click()\n",
        "        elif type == \"class\":\n",
        "            browser.find_element('class name',xpath).click()\n",
        "        elif type == \"link\":\n",
        "            browser.find_element('link text',xpath).click()\n",
        "    except (ElementClickInterceptedException, NoSuchElementException, StaleElementReferenceException) as e:\n",
        "        print(e)\n",
        "        return False\n",
        "    return True"
      ]
    },
    {
      "cell_type": "code",
      "execution_count": 4,
      "id": "b78b1590",
      "metadata": {
        "id": "b78b1590",
        "outputId": "70c1c4e3-2817-433e-dde1-a2f8717b7afa"
      },
      "outputs": [],
      "source": [
        "# lets open booking:\n",
        "dfolder = os.getcwd()\n",
        "geko_path = path.join(dfolder, 'geckodriver')\n",
        "link='https://www.booking.com/index.es.html'\n",
        "\n",
        "\n",
        "browser=start_up(dfolder=dfolder,link=link,geko_path=geko_path)"
      ]
    },
    {
      "cell_type": "code",
      "execution_count": 11,
      "id": "d0c50082",
      "metadata": {},
      "outputs": [],
      "source": [
        "browser.switch_to.default_content()"
      ]
    },
    {
      "cell_type": "code",
      "execution_count": null,
      "id": "e83794fe",
      "metadata": {},
      "outputs": [],
      "source": [
        "iframe_google = browser.find_elements(By.TAG_NAME,'iframe')[0]\n",
        "\n",
        "browser.switch_to.frame(iframe_google)"
      ]
    },
    {
      "cell_type": "code",
      "execution_count": 16,
      "id": "b6b2f5af",
      "metadata": {},
      "outputs": [],
      "source": [
        "close_log_in = browser.find_element(By.CSS_SELECTOR, '#close')\n",
        "close_log_in.click()\n",
        "\n",
        "browser.switch_to.default_content()"
      ]
    },
    {
      "cell_type": "code",
      "execution_count": 19,
      "id": "fc30d879",
      "metadata": {},
      "outputs": [],
      "source": [
        "path_cookies='//button[@id=\"onetrust-reject-all-handler\"]'\n",
        "cookies= browser.find_elements('xpath',path_cookies)\n",
        "cookies[0].click()\n"
      ]
    },
    {
      "cell_type": "markdown",
      "id": "205e3ea3",
      "metadata": {
        "id": "205e3ea3"
      },
      "source": [
        "## The first step is to find the place box:\n",
        "\n",
        "We want to imput the location, dates and search for it.\n",
        "\n",
        "Let's first review the xpath notes from the introduction:\n",
        "\n",
        "\n",
        "\n",
        "### Basic Structure of XPath and CSS Selectors\n",
        "\n",
        "When searching for elements in HTML, it's common to use either XPath or CSS selectors. The choice of selector depends on the specific requirements and context of the task. Below is a basic guide to understanding the structure of these selectors.\n",
        "\n",
        "#### Search Hierarchy\n",
        "\n",
        "1. **ID**:\n",
        "   - **Description**: Unique identifier for an element. Not always available.\n",
        "   - **Format**: `id=\"unique_id\"`\n",
        "2. **Class**:\n",
        "   - **Description**: Class name(s) associated with an element.\n",
        "   - **Format**: `class=\"class_name\"`\n",
        "3. **Tag**:\n",
        "   - **Description**: HTML tag (like `div`, `label`, etc.).\n",
        "   - **Format**: `<tag>`\n",
        "4. **Attribute**:\n",
        "   - **Description**: An attribute and its value within an element.\n",
        "   - **Format**: `attribute=\"attribute_value\"`\n",
        "\n",
        "#### XPath\n",
        "\n",
        "- **Basic Structure**:\n",
        "  \n",
        "  ```xpath\n",
        "  //tag[@attribute=\"attribute_value\"][position]\n",
        "\n",
        "The double bar `//` selects all elements that match that path. As in regex, you can use * to match any element\n",
        "\n",
        "#### CSS\n",
        "\n",
        "You also have CSS selectors that will match elements based on attributes. These are easier but less robust than xpath. Sometimes they will allow you to differentitate HTML elements that would otherwise be equal\n",
        "\n",
        "``` <span class =\"green\"></span>\n",
        "<span class =\"red\"></span>\n",
        "\n",
        "With their class, you can get say all the links that are green but not red.\n",
        "\n",
        "\n"
      ]
    },
    {
      "cell_type": "markdown",
      "id": "408cdedb",
      "metadata": {
        "id": "408cdedb"
      },
      "source": [
        "## Build the xpath to the \"Where are you going?\"\" and click on it. Complete the following code"
      ]
    },
    {
      "cell_type": "code",
      "execution_count": 67,
      "id": "00244c2f",
      "metadata": {
        "id": "00244c2f"
      },
      "outputs": [],
      "source": [
        "browser.find_element(by=By.XPATH,value='//*[@id=\":rh:\"]').click()"
      ]
    },
    {
      "cell_type": "markdown",
      "id": "656f55ca",
      "metadata": {
        "id": "656f55ca"
      },
      "source": [
        "## Input the place: Send your desired destination and combine with the element above\n",
        "\n",
        "The method `.send_keys()` allows you to send python inputs into the browse and interact with it."
      ]
    },
    {
      "cell_type": "code",
      "execution_count": 68,
      "id": "b494432e",
      "metadata": {
        "id": "b494432e"
      },
      "outputs": [],
      "source": [
        "place = input('Choose your destionation:')\n",
        "search1 = browser.find_element(by=By.NAME,value='ss')\n",
        "search1.send_keys(place)"
      ]
    },
    {
      "cell_type": "markdown",
      "id": "6ab55e89",
      "metadata": {
        "id": "6ab55e89"
      },
      "source": [
        "## Now let's input the dates.\n",
        "\n",
        "I am going to use a CSS selector. This part is one of the trickiest. booking structure does not allow to enter dates but you would need to click on them."
      ]
    },
    {
      "cell_type": "code",
      "execution_count": 69,
      "id": "8910628f",
      "metadata": {
        "id": "8910628f"
      },
      "outputs": [],
      "source": [
        "css='button.ebbedaf8ac:nth-child(2) > span:nth-child(1)'\n",
        "\n",
        "browser.find_element('css selector', css).click()"
      ]
    },
    {
      "cell_type": "code",
      "execution_count": 70,
      "id": "031721b3",
      "metadata": {},
      "outputs": [],
      "source": [
        "path_next_month='//button[@class=\"a83ed08757 c21c56c305 f38b6daa18 d691166b09 f671049264 f4552b6561 dc72a8413c f073249358\"]'\n",
        "next_month= browser.find_elements('xpath',path_next_month)\n",
        "next_month[0].click()"
      ]
    },
    {
      "cell_type": "markdown",
      "id": "01330a4a",
      "metadata": {
        "id": "01330a4a"
      },
      "source": [
        "## Now let's get all the dates. Complete the following path in order to get to the dates:\n",
        "\n",
        "\n",
        "Try to complete the next xpath"
      ]
    },
    {
      "cell_type": "code",
      "execution_count": 71,
      "id": "c7d01759",
      "metadata": {
        "id": "c7d01759",
        "outputId": "97fa46da-5f98-4a54-8e00-4a84d231b432"
      },
      "outputs": [
        {
          "name": "stdout",
          "output_type": "stream",
          "text": [
            "2025-02-01\n",
            "2025-02-02\n",
            "2025-02-03\n",
            "2025-02-04\n",
            "2025-02-05\n",
            "2025-02-06\n",
            "2025-02-07\n",
            "2025-02-08\n",
            "2025-02-09\n",
            "2025-02-10\n",
            "2025-02-11\n",
            "2025-02-12\n",
            "2025-02-13\n",
            "2025-02-14\n",
            "2025-02-15\n",
            "2025-02-16\n",
            "2025-02-17\n",
            "2025-02-18\n",
            "2025-02-19\n",
            "2025-02-20\n",
            "2025-02-21\n",
            "2025-02-22\n",
            "2025-02-23\n",
            "2025-02-24\n",
            "2025-02-25\n",
            "2025-02-26\n",
            "2025-02-27\n",
            "2025-02-28\n",
            "2025-03-01\n",
            "2025-03-02\n",
            "2025-03-03\n",
            "2025-03-04\n",
            "2025-03-05\n",
            "2025-03-06\n",
            "2025-03-07\n",
            "2025-03-08\n",
            "2025-03-09\n",
            "2025-03-10\n",
            "2025-03-11\n",
            "2025-03-12\n",
            "2025-03-13\n",
            "2025-03-14\n",
            "2025-03-15\n",
            "2025-03-16\n",
            "2025-03-17\n",
            "2025-03-18\n",
            "2025-03-19\n",
            "2025-03-20\n",
            "2025-03-21\n",
            "2025-03-22\n",
            "2025-03-23\n",
            "2025-03-24\n",
            "2025-03-25\n",
            "2025-03-26\n",
            "2025-03-27\n",
            "2025-03-28\n",
            "2025-03-29\n",
            "2025-03-30\n",
            "2025-03-31\n"
          ]
        }
      ],
      "source": [
        "id = \"calendar-searchboxdatepicker\"\n",
        "span_class = \"cf06f772fa ef091eb985\"\n",
        "path = f'//div[@id=\"{id}\"]//table[@class=\"eb03f3f27f\"]//tbody//td[@class=\"b80d5adb18\"]//span[@class=\"{span_class}\"]'\n",
        "dates = browser.find_elements('xpath',path)\n",
        "for date in dates:\n",
        "    print(date.get_attribute(\"data-date\"))"
      ]
    },
    {
      "cell_type": "code",
      "execution_count": 73,
      "id": "5b9f8ea1",
      "metadata": {
        "id": "5b9f8ea1"
      },
      "outputs": [],
      "source": [
        "from_day = input('Day from which you want to look for (In march)') #important two digits\n",
        "to_day = input('Day until which you want to look for (In march)')\n",
        "\n",
        "\n",
        "for date in dates:\n",
        "    if date.get_attribute(\"data-date\") == f\"2025-03-{from_day}\":\n",
        "        date.click()\n",
        "    if date.get_attribute(\"data-date\") == f\"2025-03-{to_day}\":\n",
        "        date.click()\n",
        "        break\n",
        "# Looping across the calendar qould require additional code."
      ]
    },
    {
      "cell_type": "markdown",
      "id": "37316444",
      "metadata": {
        "id": "37316444"
      },
      "source": [
        "## Let's search!!\n",
        "\n",
        "Build the xpath for the search buttom\n"
      ]
    },
    {
      "cell_type": "markdown",
      "id": "482f2fe8",
      "metadata": {},
      "source": [
        "Bedroom selection"
      ]
    },
    {
      "cell_type": "code",
      "execution_count": 74,
      "id": "18184f1c",
      "metadata": {},
      "outputs": [],
      "source": [
        "people_selection_path='//button[@class=\"a83ed08757 ebbedaf8ac dbaff8df6f ada2387af8\"]'\n",
        "people_selection= browser.find_elements('xpath',people_selection_path)\n",
        "people_selection[0].click()"
      ]
    },
    {
      "cell_type": "markdown",
      "id": "197e7a94",
      "metadata": {},
      "source": [
        "ONE ADULT MORE"
      ]
    },
    {
      "cell_type": "code",
      "execution_count": 47,
      "id": "971d8a69",
      "metadata": {},
      "outputs": [],
      "source": [
        "path_cookies='//button[@class=\"a83ed08757 c21c56c305 f38b6daa18 d691166b09 ab98298258 bb803d8689 f4d78af12a\"]'\n",
        "cookies= browser.find_elements('xpath',path_cookies)\n",
        "cookies[0].click()"
      ]
    },
    {
      "cell_type": "markdown",
      "id": "fa0d94f2",
      "metadata": {},
      "source": [
        "ONE ADULT LESS"
      ]
    },
    {
      "cell_type": "code",
      "execution_count": 51,
      "id": "983d7382",
      "metadata": {},
      "outputs": [],
      "source": [
        "path_cookies='//button[@class=\"a83ed08757 c21c56c305 f38b6daa18 d691166b09 ab98298258 bb803d8689 e91c91fa93\"]'\n",
        "cookies= browser.find_elements('xpath',path_cookies)\n",
        "cookies[0].click()"
      ]
    },
    {
      "cell_type": "markdown",
      "id": "ae261c27",
      "metadata": {},
      "source": [
        "SEARCH"
      ]
    },
    {
      "cell_type": "code",
      "execution_count": 75,
      "id": "k_31KinlrPXl",
      "metadata": {
        "id": "k_31KinlrPXl",
        "outputId": "f569bf65-c4ac-45d0-d2d6-cb25c57a2b47"
      },
      "outputs": [
        {
          "name": "stdout",
          "output_type": "stream",
          "text": [
            "Message: Unable to locate element: /html/body/div[3]/div[2]/div/form/div/div[4]/button/span; For documentation on this error, please visit: https://www.selenium.dev/documentation/webdriver/troubleshooting/errors#no-such-element-exception\n",
            "Stacktrace:\n",
            "RemoteError@chrome://remote/content/shared/RemoteError.sys.mjs:8:8\n",
            "WebDriverError@chrome://remote/content/shared/webdriver/Errors.sys.mjs:193:5\n",
            "NoSuchElementError@chrome://remote/content/shared/webdriver/Errors.sys.mjs:511:5\n",
            "dom.find/</<@chrome://remote/content/shared/DOM.sys.mjs:136:16\n",
            "\n",
            "Message: Unable to locate element: /html/body/div[3]/div[2]/div/form/div/div[4]/button/span; For documentation on this error, please visit: https://www.selenium.dev/documentation/webdriver/troubleshooting/errors#no-such-element-exception\n",
            "Stacktrace:\n",
            "RemoteError@chrome://remote/content/shared/RemoteError.sys.mjs:8:8\n",
            "WebDriverError@chrome://remote/content/shared/webdriver/Errors.sys.mjs:193:5\n",
            "NoSuchElementError@chrome://remote/content/shared/webdriver/Errors.sys.mjs:511:5\n",
            "dom.find/</<@chrome://remote/content/shared/DOM.sys.mjs:136:16\n",
            "\n",
            "Message: Unable to locate element: /html/body/div[3]/div[2]/div/form/div/div[4]/button/span; For documentation on this error, please visit: https://www.selenium.dev/documentation/webdriver/troubleshooting/errors#no-such-element-exception\n",
            "Stacktrace:\n",
            "RemoteError@chrome://remote/content/shared/RemoteError.sys.mjs:8:8\n",
            "WebDriverError@chrome://remote/content/shared/webdriver/Errors.sys.mjs:193:5\n",
            "NoSuchElementError@chrome://remote/content/shared/webdriver/Errors.sys.mjs:511:5\n",
            "dom.find/</<@chrome://remote/content/shared/DOM.sys.mjs:136:16\n",
            "\n",
            "Message: Unable to locate element: /html/body/div[3]/div[2]/div/form/div/div[4]/button/span; For documentation on this error, please visit: https://www.selenium.dev/documentation/webdriver/troubleshooting/errors#no-such-element-exception\n",
            "Stacktrace:\n",
            "RemoteError@chrome://remote/content/shared/RemoteError.sys.mjs:8:8\n",
            "WebDriverError@chrome://remote/content/shared/webdriver/Errors.sys.mjs:193:5\n",
            "NoSuchElementError@chrome://remote/content/shared/webdriver/Errors.sys.mjs:511:5\n",
            "dom.find/</<@chrome://remote/content/shared/DOM.sys.mjs:136:16\n",
            "\n",
            "Message: Unable to locate element: /html/body/div[3]/div[2]/div/form/div/div[4]/button/span; For documentation on this error, please visit: https://www.selenium.dev/documentation/webdriver/troubleshooting/errors#no-such-element-exception\n",
            "Stacktrace:\n",
            "RemoteError@chrome://remote/content/shared/RemoteError.sys.mjs:8:8\n",
            "WebDriverError@chrome://remote/content/shared/webdriver/Errors.sys.mjs:193:5\n",
            "NoSuchElementError@chrome://remote/content/shared/webdriver/Errors.sys.mjs:511:5\n",
            "dom.find/</<@chrome://remote/content/shared/DOM.sys.mjs:136:16\n",
            "\n",
            "Message: Unable to locate element: /html/body/div[3]/div[2]/div/form/div/div[4]/button/span; For documentation on this error, please visit: https://www.selenium.dev/documentation/webdriver/troubleshooting/errors#no-such-element-exception\n",
            "Stacktrace:\n",
            "RemoteError@chrome://remote/content/shared/RemoteError.sys.mjs:8:8\n",
            "WebDriverError@chrome://remote/content/shared/webdriver/Errors.sys.mjs:193:5\n",
            "NoSuchElementError@chrome://remote/content/shared/webdriver/Errors.sys.mjs:511:5\n",
            "dom.find/</<@chrome://remote/content/shared/DOM.sys.mjs:136:16\n",
            "\n",
            "Message: Unable to locate element: /html/body/div[3]/div[2]/div/form/div/div[4]/button/span; For documentation on this error, please visit: https://www.selenium.dev/documentation/webdriver/troubleshooting/errors#no-such-element-exception\n",
            "Stacktrace:\n",
            "RemoteError@chrome://remote/content/shared/RemoteError.sys.mjs:8:8\n",
            "WebDriverError@chrome://remote/content/shared/webdriver/Errors.sys.mjs:193:5\n",
            "NoSuchElementError@chrome://remote/content/shared/webdriver/Errors.sys.mjs:511:5\n",
            "dom.find/</<@chrome://remote/content/shared/DOM.sys.mjs:136:16\n",
            "\n",
            "Message: Unable to locate element: /html/body/div[3]/div[2]/div/form/div/div[4]/button/span; For documentation on this error, please visit: https://www.selenium.dev/documentation/webdriver/troubleshooting/errors#no-such-element-exception\n",
            "Stacktrace:\n",
            "RemoteError@chrome://remote/content/shared/RemoteError.sys.mjs:8:8\n",
            "WebDriverError@chrome://remote/content/shared/webdriver/Errors.sys.mjs:193:5\n",
            "NoSuchElementError@chrome://remote/content/shared/webdriver/Errors.sys.mjs:511:5\n",
            "dom.find/</<@chrome://remote/content/shared/DOM.sys.mjs:136:16\n",
            "\n",
            "Message: Unable to locate element: /html/body/div[3]/div[2]/div/form/div/div[4]/button/span; For documentation on this error, please visit: https://www.selenium.dev/documentation/webdriver/troubleshooting/errors#no-such-element-exception\n",
            "Stacktrace:\n",
            "RemoteError@chrome://remote/content/shared/RemoteError.sys.mjs:8:8\n",
            "WebDriverError@chrome://remote/content/shared/webdriver/Errors.sys.mjs:193:5\n",
            "NoSuchElementError@chrome://remote/content/shared/webdriver/Errors.sys.mjs:511:5\n",
            "dom.find/</<@chrome://remote/content/shared/DOM.sys.mjs:136:16\n",
            "\n",
            "Message: Unable to locate element: /html/body/div[3]/div[2]/div/form/div/div[4]/button/span; For documentation on this error, please visit: https://www.selenium.dev/documentation/webdriver/troubleshooting/errors#no-such-element-exception\n",
            "Stacktrace:\n",
            "RemoteError@chrome://remote/content/shared/RemoteError.sys.mjs:8:8\n",
            "WebDriverError@chrome://remote/content/shared/webdriver/Errors.sys.mjs:193:5\n",
            "NoSuchElementError@chrome://remote/content/shared/webdriver/Errors.sys.mjs:511:5\n",
            "dom.find/</<@chrome://remote/content/shared/DOM.sys.mjs:136:16\n",
            "\n",
            "Message: Unable to locate element: /html/body/div[3]/div[2]/div/form/div/div[4]/button/span; For documentation on this error, please visit: https://www.selenium.dev/documentation/webdriver/troubleshooting/errors#no-such-element-exception\n",
            "Stacktrace:\n",
            "RemoteError@chrome://remote/content/shared/RemoteError.sys.mjs:8:8\n",
            "WebDriverError@chrome://remote/content/shared/webdriver/Errors.sys.mjs:193:5\n",
            "NoSuchElementError@chrome://remote/content/shared/webdriver/Errors.sys.mjs:511:5\n",
            "dom.find/</<@chrome://remote/content/shared/DOM.sys.mjs:136:16\n",
            "\n",
            "Message: Unable to locate element: /html/body/div[3]/div[2]/div/form/div/div[4]/button/span; For documentation on this error, please visit: https://www.selenium.dev/documentation/webdriver/troubleshooting/errors#no-such-element-exception\n",
            "Stacktrace:\n",
            "RemoteError@chrome://remote/content/shared/RemoteError.sys.mjs:8:8\n",
            "WebDriverError@chrome://remote/content/shared/webdriver/Errors.sys.mjs:193:5\n",
            "NoSuchElementError@chrome://remote/content/shared/webdriver/Errors.sys.mjs:511:5\n",
            "dom.find/</<@chrome://remote/content/shared/DOM.sys.mjs:136:16\n",
            "\n",
            "Message: Unable to locate element: /html/body/div[3]/div[2]/div/form/div/div[4]/button/span; For documentation on this error, please visit: https://www.selenium.dev/documentation/webdriver/troubleshooting/errors#no-such-element-exception\n",
            "Stacktrace:\n",
            "RemoteError@chrome://remote/content/shared/RemoteError.sys.mjs:8:8\n",
            "WebDriverError@chrome://remote/content/shared/webdriver/Errors.sys.mjs:193:5\n",
            "NoSuchElementError@chrome://remote/content/shared/webdriver/Errors.sys.mjs:511:5\n",
            "dom.find/</<@chrome://remote/content/shared/DOM.sys.mjs:136:16\n",
            "\n",
            "Message: Unable to locate element: /html/body/div[3]/div[2]/div/form/div/div[4]/button/span; For documentation on this error, please visit: https://www.selenium.dev/documentation/webdriver/troubleshooting/errors#no-such-element-exception\n",
            "Stacktrace:\n",
            "RemoteError@chrome://remote/content/shared/RemoteError.sys.mjs:8:8\n",
            "WebDriverError@chrome://remote/content/shared/webdriver/Errors.sys.mjs:193:5\n",
            "NoSuchElementError@chrome://remote/content/shared/webdriver/Errors.sys.mjs:511:5\n",
            "dom.find/</<@chrome://remote/content/shared/DOM.sys.mjs:136:16\n",
            "\n",
            "Message: Unable to locate element: /html/body/div[3]/div[2]/div/form/div/div[4]/button/span; For documentation on this error, please visit: https://www.selenium.dev/documentation/webdriver/troubleshooting/errors#no-such-element-exception\n",
            "Stacktrace:\n",
            "RemoteError@chrome://remote/content/shared/RemoteError.sys.mjs:8:8\n",
            "WebDriverError@chrome://remote/content/shared/webdriver/Errors.sys.mjs:193:5\n",
            "NoSuchElementError@chrome://remote/content/shared/webdriver/Errors.sys.mjs:511:5\n",
            "dom.find/</<@chrome://remote/content/shared/DOM.sys.mjs:136:16\n",
            "\n"
          ]
        }
      ],
      "source": [
        "my_xpath=\"/html/body/div[3]/div[2]/div/form/div/div[4]/button/span\"\n",
        "\n",
        "check_obscures(browser, my_xpath , type='xpath')\n",
        "check_and_click(browser,my_xpath , type='xpath')"
      ]
    },
    {
      "cell_type": "markdown",
      "id": "14a03eee",
      "metadata": {
        "id": "14a03eee"
      },
      "source": [
        "## Now we are almost ready\n",
        "\n",
        "Lets try to get hotel names"
      ]
    },
    {
      "cell_type": "code",
      "execution_count": null,
      "id": "91785155",
      "metadata": {},
      "outputs": [],
      "source": [
        "f6431b446c fbfd7c1165 e84eb96b1f\n",
        "f6431b446c fbfd7c1165 e84eb96b1f"
      ]
    },
    {
      "cell_type": "code",
      "execution_count": 85,
      "id": "012dab7f",
      "metadata": {},
      "outputs": [
        {
          "data": {
            "text/plain": [
              "75"
            ]
          },
          "execution_count": 85,
          "metadata": {},
          "output_type": "execute_result"
        }
      ],
      "source": [
        "prices = browser.find_elements('xpath','//span[@class=\"f6431b446c fbfd7c1165 e84eb96b1f\"]')\n",
        "len(prices)"
      ]
    },
    {
      "cell_type": "code",
      "execution_count": 84,
      "id": "b2e6834f",
      "metadata": {},
      "outputs": [
        {
          "data": {
            "text/plain": [
              "''"
            ]
          },
          "execution_count": 84,
          "metadata": {},
          "output_type": "execute_result"
        }
      ],
      "source": [
        "prices[0].text"
      ]
    },
    {
      "cell_type": "code",
      "execution_count": 90,
      "id": "cc9be0bc",
      "metadata": {},
      "outputs": [
        {
          "data": {
            "text/plain": [
              "75"
            ]
          },
          "execution_count": 90,
          "metadata": {},
          "output_type": "execute_result"
        }
      ],
      "source": [
        "location = browser.find_elements('xpath','//span[@class=\"aee5343fdb def9bc142a\" and @data-testid=\"address\"]')\n",
        "len(location)"
      ]
    },
    {
      "cell_type": "code",
      "execution_count": 89,
      "id": "96ae4c91",
      "metadata": {
        "id": "96ae4c91",
        "outputId": "c5ea1697-9dc1-44ca-ecfc-69edb2d1784b"
      },
      "outputs": [
        {
          "data": {
            "text/plain": [
              "75"
            ]
          },
          "execution_count": 89,
          "metadata": {},
          "output_type": "execute_result"
        }
      ],
      "source": [
        "hotels = browser.find_elements('xpath','//div[@class=\"f6431b446c a15b38c233\"]')\n",
        "hotels\n",
        "len(hotels)"
      ]
    },
    {
      "cell_type": "markdown",
      "id": "08129224",
      "metadata": {
        "id": "08129224"
      },
      "source": [
        "## Can you guess the same for ratings and hotels?"
      ]
    },
    {
      "cell_type": "code",
      "execution_count": 33,
      "id": "d38ba959",
      "metadata": {
        "id": "d38ba959"
      },
      "outputs": [],
      "source": [
        "rat = '//div[@class=\"a3b8729ab1 d86cee9b25\"]'\n",
        "hot = '//div[@class=\"f6431b446c a15b38c233\"]'\n",
        "                    \n",
        "ratings = browser.find_elements('xpath', rat)\n",
        "hotels = browser.find_elements('xpath', hot)"
      ]
    },
    {
      "cell_type": "code",
      "execution_count": 34,
      "id": "a4e269e9",
      "metadata": {
        "id": "a4e269e9",
        "outputId": "5f1401b3-319a-426d-c4a6-a0d46dabcd68"
      },
      "outputs": [
        {
          "name": "stdout",
          "output_type": "stream",
          "text": [
            "Puntuación: 9,2\n",
            "9,2\n",
            "Puntuación: 8,8\n",
            "8,8\n",
            "Puntuación: 8,6\n",
            "8,6\n",
            "Puntuación: 8,7\n",
            "8,7\n",
            "Puntuación: 8,6\n",
            "8,6\n",
            "Puntuación: 8,5\n",
            "8,5\n",
            "Puntuación: 8,0\n",
            "8,0\n",
            "Puntuación: 8,4\n",
            "8,4\n",
            "Puntuación: 8,8\n",
            "8,8\n",
            "Puntuación: 9,2\n",
            "9,2\n",
            "Puntuación: 8,7\n",
            "8,7\n",
            "Puntuación: 9,2\n",
            "9,2\n",
            "Puntuación: 9,0\n",
            "9,0\n",
            "Puntuación: 9,3\n",
            "9,3\n",
            "Puntuación: 8,7\n",
            "8,7\n",
            "Puntuación: 9,0\n",
            "9,0\n",
            "Puntuación: 8,9\n",
            "8,9\n",
            "Puntuación: 8,7\n",
            "8,7\n",
            "Puntuación: 8,4\n",
            "8,4\n",
            "Puntuación: 8,9\n",
            "8,9\n",
            "Puntuación: 9,5\n",
            "9,5\n",
            "Puntuación: 8,8\n",
            "8,8\n",
            "Puntuación: 8,4\n",
            "8,4\n",
            "Puntuación: 8,6\n",
            "8,6\n",
            "Puntuación: 8,1\n",
            "8,1\n",
            "Puntuación: 8,4\n",
            "8,4\n",
            "Puntuación: 9,2\n",
            "9,2\n",
            "Puntuación: 8,0\n",
            "8,0\n",
            "Puntuación: 9,2\n",
            "9,2\n",
            "Puntuación: 8,8\n",
            "8,8\n",
            "Puntuación: 7,9\n",
            "7,9\n",
            "Puntuación: 8,8\n",
            "8,8\n",
            "Puntuación: 8,1\n",
            "8,1\n",
            "Puntuación: 9,1\n",
            "9,1\n",
            "Puntuación: 8,6\n",
            "8,6\n",
            "Puntuación: 7,9\n",
            "7,9\n",
            "Puntuación: 7,9\n",
            "7,9\n",
            "Puntuación: 8,4\n",
            "8,4\n",
            "Puntuación: 8,7\n",
            "8,7\n",
            "Puntuación: 8,9\n",
            "8,9\n",
            "Puntuación: 8,4\n",
            "8,4\n",
            "Puntuación: 8,8\n",
            "8,8\n",
            "Puntuación: 8,1\n",
            "8,1\n",
            "Puntuación: 8,2\n",
            "8,2\n",
            "Puntuación: 7,8\n",
            "7,8\n",
            "Puntuación: 8,3\n",
            "8,3\n",
            "Puntuación: 7,9\n",
            "7,9\n",
            "Puntuación: 8,8\n",
            "8,8\n",
            "Puntuación: 9,0\n",
            "9,0\n",
            "Puntuación: 8,4\n",
            "8,4\n",
            "Puntuación: 8,7\n",
            "8,7\n",
            "Puntuación: 7,1\n",
            "7,1\n",
            "Puntuación: 8,3\n",
            "8,3\n",
            "Puntuación: 7,8\n",
            "7,8\n",
            "Puntuación: 9,7\n",
            "9,7\n",
            "Puntuación: 7,9\n",
            "7,9\n",
            "Puntuación: 9,2\n",
            "9,2\n",
            "Puntuación: 9,0\n",
            "9,0\n",
            "Puntuación: 8,8\n",
            "8,8\n",
            "Puntuación: 8,1\n",
            "8,1\n",
            "Puntuación: 9,5\n",
            "9,5\n",
            "Puntuación: 8,5\n",
            "8,5\n",
            "Puntuación: 6,6\n",
            "6,6\n",
            "Puntuación: 6,5\n",
            "6,5\n",
            "Puntuación: 9,3\n",
            "9,3\n",
            "Puntuación: 8,9\n",
            "8,9\n",
            "Puntuación: 8,2\n",
            "8,2\n",
            "Puntuación: 9,6\n",
            "9,6\n",
            "Puntuación: 9,4\n",
            "9,4\n",
            "Puntuación: 7,0\n",
            "7,0\n",
            "Puntuación: 10\n",
            "10\n",
            "Puntuación: 8,2\n",
            "8,2\n",
            "INNSiDE by Meliá Lima Miraflores\n",
            "Crowne Plaza Lima, an IHG Hotel\n",
            "Casa Porta\n",
            "Arawi Miraflores Express\n",
            "Pariwana Hostel Lima\n",
            "KACLLA, The Healing Dog Hostel\n",
            "Casa Lima\n",
            "Hotel Boulevard\n",
            "Hotel Melia Lima\n",
            "Alojamiento San Francisco - Apartamentos\n",
            "El Tambo 1\n",
            "Hotel Andesmar\n",
            "Tierra Viva Miraflores Mendiburu\n",
            "Departamento en San Isidro, Lima\n",
            "Solar by Wynwood House\n",
            "Tierra Viva Miraflores Larco\n",
            "Arawi Miraflores Prime\n",
            "Hotel El Tambo 2\n",
            "Del Pilar Miraflores Hotel\n",
            "Atrium Miraflores Hotel\n",
            "Hotel Casa Wynwood - Centenario\n",
            "SoHo by Wynwood House\n",
            "Casa Quark Apartments\n",
            "BTH Hotel – Boutique Concept\n",
            "Lima Airport Tampu\n",
            "Casa Andina Standard Miraflores San Antonio\n",
            "Connect Studios by Vibrant\n",
            "Nomad By Wynwood House\n",
            "Royal Sweet Dreams Airport B&B\n",
            "La Paz Apart Hotel\n",
            "Manantial Hostal No.004\n",
            "Morada by Wynwood House\n",
            "BTH Hotel Lima Golf\n",
            "Monterrico Polo Aparts - Cerca a la Embajada de USA\n",
            "Las Mimosas by Wynwood House\n",
            "B&B Wasi Airport Lima\n",
            "B&B Cusing Wasi\n",
            "Alcanfores 1262 by Wynwood House\n",
            "Casa Fanning Hotel\n",
            "GL Apts, rent Upper Pardo Miraflores - Suite 1 Hab\n",
            "Casa Azul\n",
            "Centric, private, petfriendly budget apartments in Miraflores\n",
            "Chateau Studios by Vibrant\n",
            "Centric, private, petfriendly apartments in Miraflores and home in Lince\n",
            "Miraflores Apartments\n",
            "Hotel Oro Inn\n",
            "GLOBALSTAY - Exclusive Modern Barranco Apartments\n",
            "Holiday Inn - Lima Airport, an IHG Hotel\n",
            "Manor House Lima\n",
            "Costa del Sol Wyndham Lima Airport\n",
            "Departamento amoblado cerca al aeropuerto y CC Plaza Norte\n",
            "ibis budget Lima Miraflores\n",
            "Padama\n",
            "Inca inn apartments\n",
            "ibis Lima Larco Miraflores\n",
            "Hotel España Lima Peru\n",
            "Spacious apartment in Miraflores\n",
            "Decameron El Pueblo\n",
            "Departamento Compartido San Isidro\n",
            "ESTUDIO COMPLETO en el CENTRO HISTORICO de LIMA\n",
            "ibis styles Lima San Isidro\n",
            "Sunset Hostel Airport\n",
            "Huayta Wasi a 5 minutos del Aeropuerto\n",
            "ibis Lima Reducto Miraflores\n",
            "Hotel Caribe\n",
            "HOTEL RUSTICA PACHACAMAC\n",
            "Miraflores House C&F\n",
            "Radisson RED Miraflores\n",
            "Suites Larco 656 Miraflores Lima\n",
            "Matty House\n",
            "Apartamentos CAMA QUEEN Lima Airport Perú\n",
            "Novo Bonbini\n",
            "Suite de lujo con alberca\n",
            "EL TUMI - Aeropuerto\n"
          ]
        }
      ],
      "source": [
        "ratings_list=[]\n",
        "for i in ratings:\n",
        "    print(i.text)\n",
        "    ratings_list.append(i.text)\n",
        "hotels_list=[]\n",
        "for i in hotels:\n",
        "    print(i.text)\n",
        "    hotels_list.append(i.text)"
      ]
    },
    {
      "cell_type": "markdown",
      "id": "047d0e1b",
      "metadata": {
        "id": "047d0e1b"
      },
      "source": [
        "## You will need the number of pages too!"
      ]
    },
    {
      "cell_type": "code",
      "execution_count": null,
      "id": "a586e86b",
      "metadata": {
        "id": "a586e86b",
        "outputId": "cf795b42-6454-4d99-f3d0-50aa0aa2fa71"
      },
      "outputs": [
        {
          "name": "stdout",
          "output_type": "stream",
          "text": [
            "44\n"
          ]
        }
      ],
      "source": [
        "def get_number_pages(browser):\n",
        "    '''\n",
        "    Get the 'number of pages'.\n",
        "    On this version of Booking we don't have the number of pages, so we need to calculate it.\n",
        "    We used the total number of hotels and the number of hotels per page to calculate it.\n",
        "    '''\n",
        "    total = browser.find_elements('xpath', '//h1[@class=\"f6431b446c d5f78961c3\"]')\n",
        "    b = total[0].text\n",
        "    num = int(b.split(' ')[1].replace('.',''))\n",
        "\n",
        "    hotels = browser.find_elements('xpath','//div[@class=\"f6431b446c a15b38c233\"]')\n",
        "    hotels_list = [hotel.text for hotel in hotels]\n",
        "    deno = len(hotels_list)\n",
        "\n",
        "    return round(num/deno)\n",
        "\n",
        "pages = get_number_pages(browser)\n",
        "\n",
        "print(pages)\n"
      ]
    }
  ],
  "metadata": {
    "colab": {
      "provenance": []
    },
    "kernelspec": {
      "display_name": "Python 3",
      "language": "python",
      "name": "python3"
    },
    "language_info": {
      "codemirror_mode": {
        "name": "ipython",
        "version": 3
      },
      "file_extension": ".py",
      "mimetype": "text/x-python",
      "name": "python",
      "nbconvert_exporter": "python",
      "pygments_lexer": "ipython3",
      "version": "3.13.0"
    }
  },
  "nbformat": 4,
  "nbformat_minor": 5
}
