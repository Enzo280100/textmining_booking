{
 "cells": [
  {
   "cell_type": "markdown",
   "metadata": {},
   "source": [
    "# **Homework 1 - Text Mining**\n",
    "\n",
    "## Group Members:\n",
    "1. **Tarang Kadyan**  \n",
    "   <tarang.kadyan@bse.eu>\n",
    "\n",
    "2. **Oriol Gelabert**  \n",
    "   <oriol.gelabert@bse.eu>\n",
    "\n",
    "3. **Enzo Infantes**  \n",
    "   <enzo.infantes@bse.eu>\n",
    "\n",
    "<img src='https://upload.wikimedia.org/wikipedia/commons/4/41/BSE_primary_logo_color.jpg' width=300 />"
   ]
  },
  {
   "cell_type": "markdown",
   "metadata": {},
   "source": [
    "# **1. Libraries**"
   ]
  },
  {
   "cell_type": "code",
   "execution_count": 45,
   "metadata": {},
   "outputs": [],
   "source": [
    "import os\n",
    "import time\n",
    "\n",
    "import pandas as pd\n",
    "import numpy as np\n",
    "from packages.selenium_setup import *"
   ]
  },
  {
   "cell_type": "markdown",
   "metadata": {},
   "source": [
    "## Preferences\n",
    "This contains past preferences such as passwords, cookie acceptance etc."
   ]
  },
  {
   "cell_type": "markdown",
   "metadata": {},
   "source": [
    "Open Booking.com website to start our search:"
   ]
  },
  {
   "cell_type": "code",
   "execution_count": 2,
   "metadata": {},
   "outputs": [],
   "source": [
    "dfolder= os.getcwd()\n",
    "geko_path = os.path.join(dfolder, 'geckodriver.exe')\n",
    "link='https://www.booking.com/index.es.html'\n",
    "\n",
    "\n",
    "browser=start_up(dfolder=dfolder,link=link,geko_path=geko_path)"
   ]
  },
  {
   "cell_type": "markdown",
   "metadata": {},
   "source": [
    "Reject Cookies: The following cell closes Rejects the cookies, closing the banner and avoiding possible interference when scrapping."
   ]
  },
  {
   "cell_type": "code",
   "execution_count": 3,
   "metadata": {},
   "outputs": [],
   "source": [
    "path_cookies='//button[@id=\"onetrust-reject-all-handler\"]'\n",
    "cookies= browser.find_elements('xpath',path_cookies)\n",
    "cookies[0].click()"
   ]
  },
  {
   "cell_type": "markdown",
   "metadata": {},
   "source": [
    "Close Google Log-in"
   ]
  },
  {
   "cell_type": "markdown",
   "metadata": {},
   "source": [
    "Google Log-In Pop-Up is inside an Iframe object, so we should first acces to the iframe and latter to the element we are willing to click, in this case the close button of this pop-up."
   ]
  },
  {
   "cell_type": "code",
   "execution_count": 4,
   "metadata": {},
   "outputs": [],
   "source": [
    "iframe_google = browser.find_elements(By.TAG_NAME,'iframe')[0] #we find the iframe object\n",
    "browser.switch_to.frame(iframe_google) #switch to acces the iframe"
   ]
  },
  {
   "cell_type": "code",
   "execution_count": 5,
   "metadata": {},
   "outputs": [],
   "source": [
    "close_log_in = browser.find_element(By.CSS_SELECTOR, '#close') # find the close button element\n",
    "close_log_in.click() #click on it to close the pop-up\n",
    "browser.switch_to.default_content() #switch back the browser to default to exit the iframe and continue web-scrapping"
   ]
  },
  {
   "cell_type": "markdown",
   "metadata": {},
   "source": [
    "Find ''Where are you Going?'' Box and click on it:"
   ]
  },
  {
   "cell_type": "code",
   "execution_count": 6,
   "metadata": {},
   "outputs": [],
   "source": [
    "browser.find_element(by=By.XPATH,value='//*[@id=\":rh:\"]').click()"
   ]
  },
  {
   "cell_type": "markdown",
   "metadata": {},
   "source": [
    "We initially will search hotels in Barcelona, so we should input this value on the searchbox:"
   ]
  },
  {
   "cell_type": "code",
   "execution_count": 7,
   "metadata": {},
   "outputs": [],
   "source": [
    "place = 'Barcelona'\n",
    "search1 = browser.find_element(by=By.NAME,value='ss')\n",
    "search1.send_keys(place)"
   ]
  },
  {
   "cell_type": "markdown",
   "metadata": {},
   "source": [
    "Now, we select the dates of the event we wnat to track, in our case MWC. This event is hosted between 3-6 March, so our initial serach will be on the week of 1-8 March."
   ]
  },
  {
   "cell_type": "markdown",
   "metadata": {},
   "source": [
    "First we open the selector of dates:"
   ]
  },
  {
   "cell_type": "code",
   "execution_count": 8,
   "metadata": {},
   "outputs": [],
   "source": [
    "css='button.ebbedaf8ac:nth-child(2) > span:nth-child(1)'\n",
    "\n",
    "browser.find_element('css selector', css).click()"
   ]
  },
  {
   "cell_type": "markdown",
   "metadata": {},
   "source": [
    "Advance to next month, to be able to select March dates:"
   ]
  },
  {
   "cell_type": "code",
   "execution_count": 9,
   "metadata": {},
   "outputs": [],
   "source": [
    "path_next_month='//button[@class=\"a83ed08757 c21c56c305 f38b6daa18 d691166b09 f671049264 f4552b6561 dc72a8413c f073249358\"]'\n",
    "next_month= browser.find_elements('xpath',path_next_month)\n",
    "next_month[0].click()"
   ]
  },
  {
   "cell_type": "markdown",
   "metadata": {},
   "source": [
    "We acces all dates that are now visible, including both February and March:"
   ]
  },
  {
   "cell_type": "code",
   "execution_count": 10,
   "metadata": {},
   "outputs": [
    {
     "name": "stdout",
     "output_type": "stream",
     "text": [
      "2025-03-01\n",
      "2025-03-02\n",
      "2025-03-03\n",
      "2025-03-04\n",
      "2025-03-05\n",
      "2025-03-06\n",
      "2025-03-07\n",
      "2025-03-08\n",
      "2025-03-09\n",
      "2025-03-10\n",
      "2025-03-11\n",
      "2025-03-12\n",
      "2025-03-13\n",
      "2025-03-14\n",
      "2025-03-15\n",
      "2025-03-16\n",
      "2025-03-17\n",
      "2025-03-18\n",
      "2025-03-19\n",
      "2025-03-20\n",
      "2025-03-21\n",
      "2025-03-22\n",
      "2025-03-23\n",
      "2025-03-24\n",
      "2025-03-25\n",
      "2025-03-26\n",
      "2025-03-27\n",
      "2025-03-28\n",
      "2025-03-29\n",
      "2025-03-30\n",
      "2025-03-31\n",
      "2025-04-01\n",
      "2025-04-02\n",
      "2025-04-03\n",
      "2025-04-04\n",
      "2025-04-05\n",
      "2025-04-06\n",
      "2025-04-07\n",
      "2025-04-08\n",
      "2025-04-09\n",
      "2025-04-10\n",
      "2025-04-11\n",
      "2025-04-12\n",
      "2025-04-13\n",
      "2025-04-14\n",
      "2025-04-15\n",
      "2025-04-16\n",
      "2025-04-17\n",
      "2025-04-18\n",
      "2025-04-19\n",
      "2025-04-20\n",
      "2025-04-21\n",
      "2025-04-22\n",
      "2025-04-23\n",
      "2025-04-24\n",
      "2025-04-25\n",
      "2025-04-26\n",
      "2025-04-27\n",
      "2025-04-28\n",
      "2025-04-29\n",
      "2025-04-30\n"
     ]
    }
   ],
   "source": [
    "id = \"calendar-searchboxdatepicker\"\n",
    "span_class = \"cf06f772fa ef091eb985\"\n",
    "path = f'//div[@id=\"{id}\"]//table[@class=\"eb03f3f27f\"]//tbody//td[@class=\"b80d5adb18\"]//span[@class=\"{span_class}\"]'\n",
    "dates = browser.find_elements('xpath',path)\n",
    "for date in dates:\n",
    "    print(date.get_attribute(\"data-date\"))"
   ]
  },
  {
   "cell_type": "code",
   "execution_count": 11,
   "metadata": {},
   "outputs": [],
   "source": [
    "from_day = input('Day from which you want to look for (In march)') #important two digits\n",
    "to_day = input('Day until which you want to look for (In march)')\n",
    "\n",
    "\n",
    "for date in dates:\n",
    "    if date.get_attribute(\"data-date\") == f\"2025-03-{from_day}\":\n",
    "        date.click()\n",
    "    if date.get_attribute(\"data-date\") == f\"2025-03-{to_day}\":\n",
    "        date.click()\n",
    "        break"
   ]
  },
  {
   "cell_type": "markdown",
   "metadata": {},
   "source": [
    "Bedroom selection"
   ]
  },
  {
   "cell_type": "code",
   "execution_count": 12,
   "metadata": {},
   "outputs": [],
   "source": [
    "people_selection_path='//button[@class=\"a83ed08757 ebbedaf8ac dbaff8df6f ada2387af8\"]'\n",
    "people_selection= browser.find_elements('xpath',people_selection_path)\n",
    "people_selection[0].click()"
   ]
  },
  {
   "cell_type": "markdown",
   "metadata": {},
   "source": [
    "ONE ADULT MORE"
   ]
  },
  {
   "cell_type": "code",
   "execution_count": 13,
   "metadata": {},
   "outputs": [],
   "source": [
    "path_cookies='//button[@class=\"a83ed08757 c21c56c305 f38b6daa18 d691166b09 ab98298258 bb803d8689 f4d78af12a\"]'\n",
    "cookies= browser.find_elements('xpath',path_cookies)\n",
    "cookies[0].click()"
   ]
  },
  {
   "cell_type": "markdown",
   "metadata": {},
   "source": [
    "ONE ADULT LESS"
   ]
  },
  {
   "cell_type": "code",
   "execution_count": 14,
   "metadata": {},
   "outputs": [],
   "source": [
    "path_cookies='//button[@class=\"a83ed08757 c21c56c305 f38b6daa18 d691166b09 ab98298258 bb803d8689 e91c91fa93\"]'\n",
    "cookies= browser.find_elements('xpath',path_cookies)\n",
    "cookies[0].click()"
   ]
  },
  {
   "cell_type": "markdown",
   "metadata": {},
   "source": []
  },
  {
   "cell_type": "code",
   "execution_count": 15,
   "metadata": {},
   "outputs": [
    {
     "name": "stdout",
     "output_type": "stream",
     "text": [
      "Message: Unable to locate element: /html/body/div[3]/div[2]/div/form/div/div[4]/button/span; For documentation on this error, please visit: https://www.selenium.dev/documentation/webdriver/troubleshooting/errors#no-such-element-exception\n",
      "Stacktrace:\n",
      "RemoteError@chrome://remote/content/shared/RemoteError.sys.mjs:8:8\n",
      "WebDriverError@chrome://remote/content/shared/webdriver/Errors.sys.mjs:193:5\n",
      "NoSuchElementError@chrome://remote/content/shared/webdriver/Errors.sys.mjs:511:5\n",
      "dom.find/</<@chrome://remote/content/shared/DOM.sys.mjs:136:16\n",
      "\n",
      "Message: Unable to locate element: /html/body/div[3]/div[2]/div/form/div/div[4]/button/span; For documentation on this error, please visit: https://www.selenium.dev/documentation/webdriver/troubleshooting/errors#no-such-element-exception\n",
      "Stacktrace:\n",
      "RemoteError@chrome://remote/content/shared/RemoteError.sys.mjs:8:8\n",
      "WebDriverError@chrome://remote/content/shared/webdriver/Errors.sys.mjs:193:5\n",
      "NoSuchElementError@chrome://remote/content/shared/webdriver/Errors.sys.mjs:511:5\n",
      "dom.find/</<@chrome://remote/content/shared/DOM.sys.mjs:136:16\n",
      "\n",
      "Message: Unable to locate element: /html/body/div[3]/div[2]/div/form/div/div[4]/button/span; For documentation on this error, please visit: https://www.selenium.dev/documentation/webdriver/troubleshooting/errors#no-such-element-exception\n",
      "Stacktrace:\n",
      "RemoteError@chrome://remote/content/shared/RemoteError.sys.mjs:8:8\n",
      "WebDriverError@chrome://remote/content/shared/webdriver/Errors.sys.mjs:193:5\n",
      "NoSuchElementError@chrome://remote/content/shared/webdriver/Errors.sys.mjs:511:5\n",
      "dom.find/</<@chrome://remote/content/shared/DOM.sys.mjs:136:16\n",
      "\n",
      "Message: Unable to locate element: /html/body/div[3]/div[2]/div/form/div/div[4]/button/span; For documentation on this error, please visit: https://www.selenium.dev/documentation/webdriver/troubleshooting/errors#no-such-element-exception\n",
      "Stacktrace:\n",
      "RemoteError@chrome://remote/content/shared/RemoteError.sys.mjs:8:8\n",
      "WebDriverError@chrome://remote/content/shared/webdriver/Errors.sys.mjs:193:5\n",
      "NoSuchElementError@chrome://remote/content/shared/webdriver/Errors.sys.mjs:511:5\n",
      "dom.find/</<@chrome://remote/content/shared/DOM.sys.mjs:136:16\n",
      "\n",
      "Message: Unable to locate element: /html/body/div[3]/div[2]/div/form/div/div[4]/button/span; For documentation on this error, please visit: https://www.selenium.dev/documentation/webdriver/troubleshooting/errors#no-such-element-exception\n",
      "Stacktrace:\n",
      "RemoteError@chrome://remote/content/shared/RemoteError.sys.mjs:8:8\n",
      "WebDriverError@chrome://remote/content/shared/webdriver/Errors.sys.mjs:193:5\n",
      "NoSuchElementError@chrome://remote/content/shared/webdriver/Errors.sys.mjs:511:5\n",
      "dom.find/</<@chrome://remote/content/shared/DOM.sys.mjs:136:16\n",
      "\n",
      "Message: Unable to locate element: /html/body/div[3]/div[2]/div/form/div/div[4]/button/span; For documentation on this error, please visit: https://www.selenium.dev/documentation/webdriver/troubleshooting/errors#no-such-element-exception\n",
      "Stacktrace:\n",
      "RemoteError@chrome://remote/content/shared/RemoteError.sys.mjs:8:8\n",
      "WebDriverError@chrome://remote/content/shared/webdriver/Errors.sys.mjs:193:5\n",
      "NoSuchElementError@chrome://remote/content/shared/webdriver/Errors.sys.mjs:511:5\n",
      "dom.find/</<@chrome://remote/content/shared/DOM.sys.mjs:136:16\n",
      "\n",
      "Message: Unable to locate element: /html/body/div[3]/div[2]/div/form/div/div[4]/button/span; For documentation on this error, please visit: https://www.selenium.dev/documentation/webdriver/troubleshooting/errors#no-such-element-exception\n",
      "Stacktrace:\n",
      "RemoteError@chrome://remote/content/shared/RemoteError.sys.mjs:8:8\n",
      "WebDriverError@chrome://remote/content/shared/webdriver/Errors.sys.mjs:193:5\n",
      "NoSuchElementError@chrome://remote/content/shared/webdriver/Errors.sys.mjs:511:5\n",
      "dom.find/</<@chrome://remote/content/shared/DOM.sys.mjs:136:16\n",
      "\n",
      "Message: Unable to locate element: /html/body/div[3]/div[2]/div/form/div/div[4]/button/span; For documentation on this error, please visit: https://www.selenium.dev/documentation/webdriver/troubleshooting/errors#no-such-element-exception\n",
      "Stacktrace:\n",
      "RemoteError@chrome://remote/content/shared/RemoteError.sys.mjs:8:8\n",
      "WebDriverError@chrome://remote/content/shared/webdriver/Errors.sys.mjs:193:5\n",
      "NoSuchElementError@chrome://remote/content/shared/webdriver/Errors.sys.mjs:511:5\n",
      "dom.find/</<@chrome://remote/content/shared/DOM.sys.mjs:136:16\n",
      "\n",
      "Message: Unable to locate element: /html/body/div[3]/div[2]/div/form/div/div[4]/button/span; For documentation on this error, please visit: https://www.selenium.dev/documentation/webdriver/troubleshooting/errors#no-such-element-exception\n",
      "Stacktrace:\n",
      "RemoteError@chrome://remote/content/shared/RemoteError.sys.mjs:8:8\n",
      "WebDriverError@chrome://remote/content/shared/webdriver/Errors.sys.mjs:193:5\n",
      "NoSuchElementError@chrome://remote/content/shared/webdriver/Errors.sys.mjs:511:5\n",
      "dom.find/</<@chrome://remote/content/shared/DOM.sys.mjs:136:16\n",
      "\n",
      "Message: Unable to locate element: /html/body/div[3]/div[2]/div/form/div/div[4]/button/span; For documentation on this error, please visit: https://www.selenium.dev/documentation/webdriver/troubleshooting/errors#no-such-element-exception\n",
      "Stacktrace:\n",
      "RemoteError@chrome://remote/content/shared/RemoteError.sys.mjs:8:8\n",
      "WebDriverError@chrome://remote/content/shared/webdriver/Errors.sys.mjs:193:5\n",
      "NoSuchElementError@chrome://remote/content/shared/webdriver/Errors.sys.mjs:511:5\n",
      "dom.find/</<@chrome://remote/content/shared/DOM.sys.mjs:136:16\n",
      "\n",
      "Message: Unable to locate element: /html/body/div[3]/div[2]/div/form/div/div[4]/button/span; For documentation on this error, please visit: https://www.selenium.dev/documentation/webdriver/troubleshooting/errors#no-such-element-exception\n",
      "Stacktrace:\n",
      "RemoteError@chrome://remote/content/shared/RemoteError.sys.mjs:8:8\n",
      "WebDriverError@chrome://remote/content/shared/webdriver/Errors.sys.mjs:193:5\n",
      "NoSuchElementError@chrome://remote/content/shared/webdriver/Errors.sys.mjs:511:5\n",
      "dom.find/</<@chrome://remote/content/shared/DOM.sys.mjs:136:16\n",
      "\n",
      "Message: Unable to locate element: /html/body/div[3]/div[2]/div/form/div/div[4]/button/span; For documentation on this error, please visit: https://www.selenium.dev/documentation/webdriver/troubleshooting/errors#no-such-element-exception\n",
      "Stacktrace:\n",
      "RemoteError@chrome://remote/content/shared/RemoteError.sys.mjs:8:8\n",
      "WebDriverError@chrome://remote/content/shared/webdriver/Errors.sys.mjs:193:5\n",
      "NoSuchElementError@chrome://remote/content/shared/webdriver/Errors.sys.mjs:511:5\n",
      "dom.find/</<@chrome://remote/content/shared/DOM.sys.mjs:136:16\n",
      "\n",
      "Message: Unable to locate element: /html/body/div[3]/div[2]/div/form/div/div[4]/button/span; For documentation on this error, please visit: https://www.selenium.dev/documentation/webdriver/troubleshooting/errors#no-such-element-exception\n",
      "Stacktrace:\n",
      "RemoteError@chrome://remote/content/shared/RemoteError.sys.mjs:8:8\n",
      "WebDriverError@chrome://remote/content/shared/webdriver/Errors.sys.mjs:193:5\n",
      "NoSuchElementError@chrome://remote/content/shared/webdriver/Errors.sys.mjs:511:5\n",
      "dom.find/</<@chrome://remote/content/shared/DOM.sys.mjs:136:16\n",
      "\n",
      "Message: Unable to locate element: /html/body/div[3]/div[2]/div/form/div/div[4]/button/span; For documentation on this error, please visit: https://www.selenium.dev/documentation/webdriver/troubleshooting/errors#no-such-element-exception\n",
      "Stacktrace:\n",
      "RemoteError@chrome://remote/content/shared/RemoteError.sys.mjs:8:8\n",
      "WebDriverError@chrome://remote/content/shared/webdriver/Errors.sys.mjs:193:5\n",
      "NoSuchElementError@chrome://remote/content/shared/webdriver/Errors.sys.mjs:511:5\n",
      "dom.find/</<@chrome://remote/content/shared/DOM.sys.mjs:136:16\n",
      "\n",
      "Message: Unable to locate element: /html/body/div[3]/div[2]/div/form/div/div[4]/button/span; For documentation on this error, please visit: https://www.selenium.dev/documentation/webdriver/troubleshooting/errors#no-such-element-exception\n",
      "Stacktrace:\n",
      "RemoteError@chrome://remote/content/shared/RemoteError.sys.mjs:8:8\n",
      "WebDriverError@chrome://remote/content/shared/webdriver/Errors.sys.mjs:193:5\n",
      "NoSuchElementError@chrome://remote/content/shared/webdriver/Errors.sys.mjs:511:5\n",
      "dom.find/</<@chrome://remote/content/shared/DOM.sys.mjs:136:16\n",
      "\n"
     ]
    }
   ],
   "source": [
    "my_xpath=\"/html/body/div[3]/div[2]/div/form/div/div[4]/button/span\"\n",
    "\n",
    "check_obscures(browser, my_xpath , type='xpath')\n",
    "check_and_click(browser,my_xpath , type='xpath')"
   ]
  },
  {
   "cell_type": "code",
   "execution_count": 16,
   "metadata": {},
   "outputs": [],
   "source": [
    "# Geniuos rejected\n",
    "path_cookies='//div[@class=\"abcc616ec7 cc1b961f14 c180176d40 f11eccb5e8 ff74db973c\"]'\n",
    "cookies= browser.find_elements('xpath',path_cookies)\n",
    "cookies[0].click()"
   ]
  },
  {
   "cell_type": "code",
   "execution_count": null,
   "metadata": {},
   "outputs": [
    {
     "name": "stdout",
     "output_type": "stream",
     "text": [
      "There aren't more results to load\n"
     ]
    }
   ],
   "source": [
    "def scroll_and_click():\n",
    "    while True:\n",
    "        try:\n",
    "            #scroll to the end of the page\n",
    "            path_final_results = '//div[@class=\"extranet_link_container\"]'\n",
    "            final_results = browser.find_elements(By.XPATH, path_final_results)\n",
    "            browser.execute_script(\"arguments[0].scrollIntoView();\", final_results[0])\n",
    "            time.sleep(2) #wait for the page to load\n",
    "\n",
    "            #click on the button to load more results\n",
    "            path_total_results = '//button[@class=\"a83ed08757 c21c56c305 bf0537ecb5 f671049264 af7297d90d c0e0affd09\"]'    \n",
    "            button = browser.find_element(By.XPATH, path_total_results)\n",
    "            button.click()\n",
    "            time.sleep(2) #wait for the page to load\n",
    "        except NoSuchElementException:\n",
    "            print(\"There aren't more results to load\")\n",
    "            break\n",
    "\n",
    "scroll_and_click()"
   ]
  },
  {
   "cell_type": "code",
   "execution_count": 30,
   "metadata": {},
   "outputs": [],
   "source": [
    "# Extracting the most relevant information about the hotels\n",
    "rating = '//div[@class=\"a3b8729ab1 d86cee9b25\"]'\n",
    "name = '//div[@class=\"f6431b446c a15b38c233\"]'\n",
    "price = '//span[@class=\"f6431b446c fbfd7c1165 e84eb96b1f\"]'\n",
    "location = '//span[@class=\"aee5343fdb def9bc142a\" and @data-testid=\"address\"]'\n",
    "\n",
    "\n",
    "ratings = browser.find_elements('xpath', rating)\n",
    "names = browser.find_elements('xpath', name)\n",
    "prices = browser.find_elements('xpath', price)\n",
    "locations = browser.find_elements('xpath', location)"
   ]
  },
  {
   "cell_type": "code",
   "execution_count": null,
   "metadata": {},
   "outputs": [],
   "source": [
    "# Extracting the links for all the hotels\n",
    "link_elements = browser.find_elements(By.CSS_SELECTOR, 'a[data-testid=\"title-link\"]')\n",
    "links = [element.get_attribute(\"href\") for element in link_elements]"
   ]
  },
  {
   "cell_type": "code",
   "execution_count": 51,
   "metadata": {},
   "outputs": [],
   "source": [
    "# all the information is stored in a dataframe\n",
    "data = []\n",
    "for i in range(len(name)):\n",
    "    data.append({\n",
    "        'name': names[i].text, \n",
    "        'rating': ratings[i].text, \n",
    "        'price': prices[i].text, \n",
    "        'location': locations[i].text, \n",
    "        'link': links[i]\n",
    "    })\n",
    "\n",
    "df = pd.DataFrame(data, columns=['name', 'rating', 'price', 'location', 'link'])"
   ]
  },
  {
   "cell_type": "code",
   "execution_count": 65,
   "metadata": {},
   "outputs": [
    {
     "data": {
      "text/html": [
       "<div>\n",
       "<style scoped>\n",
       "    .dataframe tbody tr th:only-of-type {\n",
       "        vertical-align: middle;\n",
       "    }\n",
       "\n",
       "    .dataframe tbody tr th {\n",
       "        vertical-align: top;\n",
       "    }\n",
       "\n",
       "    .dataframe thead th {\n",
       "        text-align: right;\n",
       "    }\n",
       "</style>\n",
       "<table border=\"1\" class=\"dataframe\">\n",
       "  <thead>\n",
       "    <tr style=\"text-align: right;\">\n",
       "      <th></th>\n",
       "      <th>name</th>\n",
       "      <th>rating</th>\n",
       "      <th>price</th>\n",
       "      <th>location</th>\n",
       "      <th>link</th>\n",
       "    </tr>\n",
       "  </thead>\n",
       "  <tbody>\n",
       "    <tr>\n",
       "      <th>0</th>\n",
       "      <td>Tembo Barcelona</td>\n",
       "      <td>Puntuación: 8,8\\n8,8</td>\n",
       "      <td>€ 222</td>\n",
       "      <td>Barcelona</td>\n",
       "      <td>https://www.booking.com/hotel/es/tembo-barcelo...</td>\n",
       "    </tr>\n",
       "    <tr>\n",
       "      <th>1</th>\n",
       "      <td>Le Meridien Barcelona</td>\n",
       "      <td>Puntuación: 7,6\\n7,6</td>\n",
       "      <td>€ 298</td>\n",
       "      <td>Ciutat Vella, Barcelona</td>\n",
       "      <td>https://www.booking.com/hotel/es/le-meridien-b...</td>\n",
       "    </tr>\n",
       "    <tr>\n",
       "      <th>2</th>\n",
       "      <td>Hotel Lleó</td>\n",
       "      <td>Puntuación: 8,3\\n8,3</td>\n",
       "      <td>€ 97</td>\n",
       "      <td>Ciutat Vella, Barcelona</td>\n",
       "      <td>https://www.booking.com/hotel/es/lleo.es.html?...</td>\n",
       "    </tr>\n",
       "    <tr>\n",
       "      <th>3</th>\n",
       "      <td>Hotel Lloret Ramblas</td>\n",
       "      <td>Puntuación: 8,1\\n8,1</td>\n",
       "      <td>€ 76</td>\n",
       "      <td>Ciutat Vella, Barcelona</td>\n",
       "      <td>https://www.booking.com/hotel/es/lloret.es.htm...</td>\n",
       "    </tr>\n",
       "    <tr>\n",
       "      <th>4</th>\n",
       "      <td>Hotel Market</td>\n",
       "      <td>Puntuación: 7,6\\n7,6</td>\n",
       "      <td>€ 103</td>\n",
       "      <td>Eixample, Barcelona</td>\n",
       "      <td>https://www.booking.com/hotel/es/market.es.htm...</td>\n",
       "    </tr>\n",
       "  </tbody>\n",
       "</table>\n",
       "</div>"
      ],
      "text/plain": [
       "                    name                rating  price  \\\n",
       "0        Tembo Barcelona  Puntuación: 8,8\\n8,8  € 222   \n",
       "1  Le Meridien Barcelona  Puntuación: 7,6\\n7,6  € 298   \n",
       "2             Hotel Lleó  Puntuación: 8,3\\n8,3   € 97   \n",
       "3   Hotel Lloret Ramblas  Puntuación: 8,1\\n8,1   € 76   \n",
       "4           Hotel Market  Puntuación: 7,6\\n7,6  € 103   \n",
       "\n",
       "                  location                                               link  \n",
       "0                Barcelona  https://www.booking.com/hotel/es/tembo-barcelo...  \n",
       "1  Ciutat Vella, Barcelona  https://www.booking.com/hotel/es/le-meridien-b...  \n",
       "2  Ciutat Vella, Barcelona  https://www.booking.com/hotel/es/lleo.es.html?...  \n",
       "3  Ciutat Vella, Barcelona  https://www.booking.com/hotel/es/lloret.es.htm...  \n",
       "4      Eixample, Barcelona  https://www.booking.com/hotel/es/market.es.htm...  "
      ]
     },
     "execution_count": 65,
     "metadata": {},
     "output_type": "execute_result"
    }
   ],
   "source": [
    "df.head()"
   ]
  },
  {
   "cell_type": "code",
   "execution_count": 63,
   "metadata": {},
   "outputs": [],
   "source": [
    "pd.reset_option('display.max_colwidth')"
   ]
  },
  {
   "cell_type": "code",
   "execution_count": null,
   "metadata": {},
   "outputs": [],
   "source": []
  }
 ],
 "metadata": {
  "kernelspec": {
   "display_name": "Python 3",
   "language": "python",
   "name": "python3"
  },
  "language_info": {
   "codemirror_mode": {
    "name": "ipython",
    "version": 3
   },
   "file_extension": ".py",
   "mimetype": "text/x-python",
   "name": "python",
   "nbconvert_exporter": "python",
   "pygments_lexer": "ipython3",
   "version": "3.12.8"
  }
 },
 "nbformat": 4,
 "nbformat_minor": 2
}
