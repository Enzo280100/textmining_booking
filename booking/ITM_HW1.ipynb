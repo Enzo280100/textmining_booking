{
 "cells": [
  {
   "cell_type": "markdown",
   "metadata": {},
   "source": [
    "# **Homework 1 - Text Mining**\n",
    "\n",
    "## Group Members:\n",
    "1. **Tarang Kadyan**  \n",
    "   <tarang.kadyan@bse.eu>\n",
    "\n",
    "2. **Oriol Gelabert**  \n",
    "   <oriol.gelabert@bse.eu>\n",
    "\n",
    "3. **Enzo Infantes**  \n",
    "   <enzo.infantes@bse.eu>\n",
    "\n",
    "<img src='https://upload.wikimedia.org/wikipedia/commons/4/41/BSE_primary_logo_color.jpg' width=300 />"
   ]
  },
  {
   "cell_type": "markdown",
   "metadata": {},
   "source": [
    "# **1. Libraries**"
   ]
  },
  {
   "cell_type": "code",
   "execution_count": 9,
   "metadata": {},
   "outputs": [],
   "source": [
    "import os\n",
    "import time\n",
    "\n",
    "import pandas as pd\n",
    "import numpy as np\n",
    "import re\n",
    "\n",
    "from selenium.webdriver.common.keys import Keys\n",
    "from packages.selenium_setup import *\n",
    "from packages.scraper import BookingScraper\n",
    "from packages.dataloading import DataCollection"
   ]
  },
  {
   "cell_type": "markdown",
   "metadata": {},
   "source": [
    "# **2. Searching**\n",
    "This contains past preferences such as passwords, cookie acceptance etc."
   ]
  },
  {
   "cell_type": "markdown",
   "metadata": {},
   "source": [
    "Open **Booking.com** website to start our search. \\\n",
    "Note: In this step, we are using the functions from `selenium_setup.py`."
   ]
  },
  {
   "cell_type": "code",
   "execution_count": 2,
   "metadata": {},
   "outputs": [],
   "source": [
    "dfolder= os.getcwd()\n",
    "geko_path = os.path.join(dfolder, 'geckodriver.exe')\n",
    "link='https://www.booking.com/index.es.html'\n",
    "\n",
    "browser=start_up(dfolder=dfolder,link=link,geko_path=geko_path)"
   ]
  },
  {
   "cell_type": "markdown",
   "metadata": {},
   "source": [
    "**Reject Cookies**: The following cell closes Rejects the cookies, closing the banner and avoiding possible interference when scrapping."
   ]
  },
  {
   "cell_type": "code",
   "execution_count": 3,
   "metadata": {},
   "outputs": [],
   "source": [
    "path_cookies='//button[@id=\"onetrust-reject-all-handler\"]'\n",
    "cookies= browser.find_elements('xpath',path_cookies)\n",
    "cookies[0].click()"
   ]
  },
  {
   "cell_type": "markdown",
   "metadata": {},
   "source": [
    "**Google Log-In Pop-Up** is inside an Iframe object, so we should first acces to the iframe and latter to the element we are willing to click, in this case the close button of this pop-up."
   ]
  },
  {
   "cell_type": "code",
   "execution_count": 4,
   "metadata": {},
   "outputs": [],
   "source": [
    "try:\n",
    "    iframe_google = browser.find_elements(By.TAG_NAME,'iframe')[0] #we find the iframe object\n",
    "    browser.switch_to.frame(iframe_google) #switch to acces the iframe\n",
    "    close_log_in = browser.find_element(By.CSS_SELECTOR, '#close') # find the close button element\n",
    "    close_log_in.click() #click on it to close the pop-up\n",
    "except Exception:\n",
    "    print('No Google LogIn found')\n",
    "    \n",
    "browser.switch_to.default_content() #switch back the browser to default to exit the iframe and continue web-scrapping"
   ]
  },
  {
   "cell_type": "markdown",
   "metadata": {},
   "source": [
    "## **2.1 Booking Scraper - Initial Results**\n",
    "In this section, we are using the `BookingScraper` class from `scraper.py`. Inside it, the following steps are performed:\n",
    "\n",
    "- Define and search for our destination (city).\n",
    "- Specify the month and the exact date (month and day).\n",
    "- Click the search button.\n",
    "\n",
    "We are selecting the dates of the event we want to track, in our case MWC. This event is hosted between 3-6 March, so our initial serach will be on the week of 01 to 08 March."
   ]
  },
  {
   "cell_type": "code",
   "execution_count": 5,
   "metadata": {},
   "outputs": [
    {
     "name": "stdout",
     "output_type": "stream",
     "text": [
      "Message: Unable to locate element: /html/body/div[3]/div[2]/div/form/div/div[4]/button/span; For documentation on this error, please visit: https://www.selenium.dev/documentation/webdriver/troubleshooting/errors#no-such-element-exception\n",
      "Stacktrace:\n",
      "RemoteError@chrome://remote/content/shared/RemoteError.sys.mjs:8:8\n",
      "WebDriverError@chrome://remote/content/shared/webdriver/Errors.sys.mjs:193:5\n",
      "NoSuchElementError@chrome://remote/content/shared/webdriver/Errors.sys.mjs:511:5\n",
      "dom.find/</<@chrome://remote/content/shared/DOM.sys.mjs:136:16\n",
      "\n",
      "Message: Unable to locate element: /html/body/div[3]/div[2]/div/form/div/div[4]/button/span; For documentation on this error, please visit: https://www.selenium.dev/documentation/webdriver/troubleshooting/errors#no-such-element-exception\n",
      "Stacktrace:\n",
      "RemoteError@chrome://remote/content/shared/RemoteError.sys.mjs:8:8\n",
      "WebDriverError@chrome://remote/content/shared/webdriver/Errors.sys.mjs:193:5\n",
      "NoSuchElementError@chrome://remote/content/shared/webdriver/Errors.sys.mjs:511:5\n",
      "dom.find/</<@chrome://remote/content/shared/DOM.sys.mjs:136:16\n",
      "\n",
      "Message: Unable to locate element: /html/body/div[3]/div[2]/div/form/div/div[4]/button/span; For documentation on this error, please visit: https://www.selenium.dev/documentation/webdriver/troubleshooting/errors#no-such-element-exception\n",
      "Stacktrace:\n",
      "RemoteError@chrome://remote/content/shared/RemoteError.sys.mjs:8:8\n",
      "WebDriverError@chrome://remote/content/shared/webdriver/Errors.sys.mjs:193:5\n",
      "NoSuchElementError@chrome://remote/content/shared/webdriver/Errors.sys.mjs:511:5\n",
      "dom.find/</<@chrome://remote/content/shared/DOM.sys.mjs:136:16\n",
      "\n",
      "Message: Unable to locate element: /html/body/div[3]/div[2]/div/form/div/div[4]/button/span; For documentation on this error, please visit: https://www.selenium.dev/documentation/webdriver/troubleshooting/errors#no-such-element-exception\n",
      "Stacktrace:\n",
      "RemoteError@chrome://remote/content/shared/RemoteError.sys.mjs:8:8\n",
      "WebDriverError@chrome://remote/content/shared/webdriver/Errors.sys.mjs:193:5\n",
      "NoSuchElementError@chrome://remote/content/shared/webdriver/Errors.sys.mjs:511:5\n",
      "dom.find/</<@chrome://remote/content/shared/DOM.sys.mjs:136:16\n",
      "\n",
      "Message: Unable to locate element: /html/body/div[3]/div[2]/div/form/div/div[4]/button/span; For documentation on this error, please visit: https://www.selenium.dev/documentation/webdriver/troubleshooting/errors#no-such-element-exception\n",
      "Stacktrace:\n",
      "RemoteError@chrome://remote/content/shared/RemoteError.sys.mjs:8:8\n",
      "WebDriverError@chrome://remote/content/shared/webdriver/Errors.sys.mjs:193:5\n",
      "NoSuchElementError@chrome://remote/content/shared/webdriver/Errors.sys.mjs:511:5\n",
      "dom.find/</<@chrome://remote/content/shared/DOM.sys.mjs:136:16\n",
      "\n",
      "Message: Unable to locate element: /html/body/div[3]/div[2]/div/form/div/div[4]/button/span; For documentation on this error, please visit: https://www.selenium.dev/documentation/webdriver/troubleshooting/errors#no-such-element-exception\n",
      "Stacktrace:\n",
      "RemoteError@chrome://remote/content/shared/RemoteError.sys.mjs:8:8\n",
      "WebDriverError@chrome://remote/content/shared/webdriver/Errors.sys.mjs:193:5\n",
      "NoSuchElementError@chrome://remote/content/shared/webdriver/Errors.sys.mjs:511:5\n",
      "dom.find/</<@chrome://remote/content/shared/DOM.sys.mjs:136:16\n",
      "\n",
      "Message: Unable to locate element: /html/body/div[3]/div[2]/div/form/div/div[4]/button/span; For documentation on this error, please visit: https://www.selenium.dev/documentation/webdriver/troubleshooting/errors#no-such-element-exception\n",
      "Stacktrace:\n",
      "RemoteError@chrome://remote/content/shared/RemoteError.sys.mjs:8:8\n",
      "WebDriverError@chrome://remote/content/shared/webdriver/Errors.sys.mjs:193:5\n",
      "NoSuchElementError@chrome://remote/content/shared/webdriver/Errors.sys.mjs:511:5\n",
      "dom.find/</<@chrome://remote/content/shared/DOM.sys.mjs:136:16\n",
      "\n",
      "Message: Unable to locate element: /html/body/div[3]/div[2]/div/form/div/div[4]/button/span; For documentation on this error, please visit: https://www.selenium.dev/documentation/webdriver/troubleshooting/errors#no-such-element-exception\n",
      "Stacktrace:\n",
      "RemoteError@chrome://remote/content/shared/RemoteError.sys.mjs:8:8\n",
      "WebDriverError@chrome://remote/content/shared/webdriver/Errors.sys.mjs:193:5\n",
      "NoSuchElementError@chrome://remote/content/shared/webdriver/Errors.sys.mjs:511:5\n",
      "dom.find/</<@chrome://remote/content/shared/DOM.sys.mjs:136:16\n",
      "\n",
      "Message: Unable to locate element: /html/body/div[3]/div[2]/div/form/div/div[4]/button/span; For documentation on this error, please visit: https://www.selenium.dev/documentation/webdriver/troubleshooting/errors#no-such-element-exception\n",
      "Stacktrace:\n",
      "RemoteError@chrome://remote/content/shared/RemoteError.sys.mjs:8:8\n",
      "WebDriverError@chrome://remote/content/shared/webdriver/Errors.sys.mjs:193:5\n",
      "NoSuchElementError@chrome://remote/content/shared/webdriver/Errors.sys.mjs:511:5\n",
      "dom.find/</<@chrome://remote/content/shared/DOM.sys.mjs:136:16\n",
      "\n",
      "Message: Unable to locate element: /html/body/div[3]/div[2]/div/form/div/div[4]/button/span; For documentation on this error, please visit: https://www.selenium.dev/documentation/webdriver/troubleshooting/errors#no-such-element-exception\n",
      "Stacktrace:\n",
      "RemoteError@chrome://remote/content/shared/RemoteError.sys.mjs:8:8\n",
      "WebDriverError@chrome://remote/content/shared/webdriver/Errors.sys.mjs:193:5\n",
      "NoSuchElementError@chrome://remote/content/shared/webdriver/Errors.sys.mjs:511:5\n",
      "dom.find/</<@chrome://remote/content/shared/DOM.sys.mjs:136:16\n",
      "\n",
      "Message: Unable to locate element: /html/body/div[3]/div[2]/div/form/div/div[4]/button/span; For documentation on this error, please visit: https://www.selenium.dev/documentation/webdriver/troubleshooting/errors#no-such-element-exception\n",
      "Stacktrace:\n",
      "RemoteError@chrome://remote/content/shared/RemoteError.sys.mjs:8:8\n",
      "WebDriverError@chrome://remote/content/shared/webdriver/Errors.sys.mjs:193:5\n",
      "NoSuchElementError@chrome://remote/content/shared/webdriver/Errors.sys.mjs:511:5\n",
      "dom.find/</<@chrome://remote/content/shared/DOM.sys.mjs:136:16\n",
      "\n",
      "Message: Unable to locate element: /html/body/div[3]/div[2]/div/form/div/div[4]/button/span; For documentation on this error, please visit: https://www.selenium.dev/documentation/webdriver/troubleshooting/errors#no-such-element-exception\n",
      "Stacktrace:\n",
      "RemoteError@chrome://remote/content/shared/RemoteError.sys.mjs:8:8\n",
      "WebDriverError@chrome://remote/content/shared/webdriver/Errors.sys.mjs:193:5\n",
      "NoSuchElementError@chrome://remote/content/shared/webdriver/Errors.sys.mjs:511:5\n",
      "dom.find/</<@chrome://remote/content/shared/DOM.sys.mjs:136:16\n",
      "\n",
      "Message: Unable to locate element: /html/body/div[3]/div[2]/div/form/div/div[4]/button/span; For documentation on this error, please visit: https://www.selenium.dev/documentation/webdriver/troubleshooting/errors#no-such-element-exception\n",
      "Stacktrace:\n",
      "RemoteError@chrome://remote/content/shared/RemoteError.sys.mjs:8:8\n",
      "WebDriverError@chrome://remote/content/shared/webdriver/Errors.sys.mjs:193:5\n",
      "NoSuchElementError@chrome://remote/content/shared/webdriver/Errors.sys.mjs:511:5\n",
      "dom.find/</<@chrome://remote/content/shared/DOM.sys.mjs:136:16\n",
      "\n",
      "Message: Unable to locate element: /html/body/div[3]/div[2]/div/form/div/div[4]/button/span; For documentation on this error, please visit: https://www.selenium.dev/documentation/webdriver/troubleshooting/errors#no-such-element-exception\n",
      "Stacktrace:\n",
      "RemoteError@chrome://remote/content/shared/RemoteError.sys.mjs:8:8\n",
      "WebDriverError@chrome://remote/content/shared/webdriver/Errors.sys.mjs:193:5\n",
      "NoSuchElementError@chrome://remote/content/shared/webdriver/Errors.sys.mjs:511:5\n",
      "dom.find/</<@chrome://remote/content/shared/DOM.sys.mjs:136:16\n",
      "\n",
      "Message: Unable to locate element: /html/body/div[3]/div[2]/div/form/div/div[4]/button/span; For documentation on this error, please visit: https://www.selenium.dev/documentation/webdriver/troubleshooting/errors#no-such-element-exception\n",
      "Stacktrace:\n",
      "RemoteError@chrome://remote/content/shared/RemoteError.sys.mjs:8:8\n",
      "WebDriverError@chrome://remote/content/shared/webdriver/Errors.sys.mjs:193:5\n",
      "NoSuchElementError@chrome://remote/content/shared/webdriver/Errors.sys.mjs:511:5\n",
      "dom.find/</<@chrome://remote/content/shared/DOM.sys.mjs:136:16\n",
      "\n"
     ]
    }
   ],
   "source": [
    "# Pipeline to filter the destination, month, and year of the trip, and perform the search.\n",
    "scraper = BookingScraper(browser)\n",
    "scraper.run_pipeline(place=\"Barcelona\", \n",
    "                     target_month=\"marzo\", \n",
    "                     target_year=\"2025\",\n",
    "                     from_date=\"03-01\", \n",
    "                     to_date=\"03-08\")"
   ]
  },
  {
   "cell_type": "markdown",
   "metadata": {},
   "source": [
    "**Genius pop-up** might appear, we would want to close it:"
   ]
  },
  {
   "cell_type": "code",
   "execution_count": 6,
   "metadata": {},
   "outputs": [
    {
     "name": "stdout",
     "output_type": "stream",
     "text": [
      "No Genius Banner\n"
     ]
    }
   ],
   "source": [
    "def close_genius():\n",
    "    '''\n",
    "    Wait for content to load around 5 seconds and close the Genius Banner.\n",
    "    In case there is no genius banner we will perform no action\n",
    "    '''\n",
    "    try:\n",
    "          time.sleep(5)  \n",
    "          path_close_genius='//div[@class=\"abcc616ec7 cc1b961f14 c180176d40 f11eccb5e8 ff74db973c\"]'\n",
    "          close_genius= browser.find_elements('xpath',path_close_genius)\n",
    "          close_genius[0].click()\n",
    "    except Exception as e:\n",
    "        print(\"No Genius Banner\")\n",
    "\n",
    "close_genius()"
   ]
  },
  {
   "cell_type": "markdown",
   "metadata": {},
   "source": [
    "**Important Step**\n",
    "\n",
    "Now, we want to extract information from all hotels in Barcelona. The issue is that Booking initially displays only 25 hotels, and as you scroll down, it loads up to 75 before requiring a click on the 'Load More' button.\n",
    "\n",
    "To handle this, we create a function that scrolls to the bottom of the page, searches for this clickable button, and clicks it. This process runs in a while loop until the 'Load More' button is no longer available, indicating that all possible hotels have been displayed.\n",
    "\n",
    "Some waiting times are added to allow the browser to load elements properly"
   ]
  },
  {
   "cell_type": "code",
   "execution_count": null,
   "metadata": {},
   "outputs": [
    {
     "name": "stdout",
     "output_type": "stream",
     "text": [
      "All hotels have been loaded\n"
     ]
    }
   ],
   "source": [
    "def scroll_and_click():\n",
    "    '''\n",
    "    Scroll to the bottom of the page and click the button to load more hotels.\n",
    "    We define some time.sleep() to wait for the content to load.\n",
    "    '''\n",
    "    try:\n",
    "        browser.find_element(By.TAG_NAME, 'body').send_keys(Keys.END) # Scroll to the bottom\n",
    "        time.sleep(3)  # Wait for content to load\n",
    "            \n",
    "        wait = WebDriverWait(browser, 7) # Wait for the button to be clickable\n",
    "        button = wait.until(EC.element_to_be_clickable((By.XPATH, '//button[@class = \"a83ed08757 c21c56c305 bf0537ecb5 f671049264 af7297d90d c0e0affd09\"]')))\n",
    "\n",
    "        button.click()\n",
    "        time.sleep(1)  # Wait for new content to load\n",
    "        while True:\n",
    "            try:\n",
    "                browser.find_element(By.TAG_NAME, 'body').send_keys(Keys.END) # Scroll to the bottom\n",
    "                time.sleep(0.7)  # Wait for content to load\n",
    "                \n",
    "                wait = WebDriverWait(browser, 4) # Wait for the button to be clickable\n",
    "                button = wait.until(EC.element_to_be_clickable((By.XPATH, '//button[@class = \"a83ed08757 c21c56c305 bf0537ecb5 f671049264 af7297d90d c0e0affd09\"]')))\n",
    "\n",
    "                button.click()\n",
    "                time.sleep(0.7)  # Wait for new content to load\n",
    "            except Exception as e:\n",
    "                print(\"All hotels have been loaded\")\n",
    "                break\n",
    "    except Exception:\n",
    "        print('No button found')\n",
    "\n",
    "scroll_and_click()"
   ]
  },
  {
   "cell_type": "markdown",
   "metadata": {},
   "source": [
    "## **2.2 Data Loading - Final Results**\n",
    "Now we have all the hotels loaded we will extract some information from them. After a quick inspection we identify several elements that could be usefull when analyzing an hotel:\n",
    "\n",
    "* Hotel name : Can be used as an identifier\n",
    "* Price : We can get the price of the stay for each hotel\n",
    "* Rating: The feedback given by consumers of booking for each hotel\n",
    "* Stars: We can also retrieve the number of stars of an hotel\n",
    "* Distance to the center: This could indicate us if only central hotels are affected by an increase of prices.\n",
    "* Neigbourhood: Maybe only certain neighbourhoods are affected by the presence of an event."
   ]
  },
  {
   "cell_type": "code",
   "execution_count": 10,
   "metadata": {},
   "outputs": [],
   "source": [
    "scraper = DataCollection(browser)\n",
    "df = scraper.get_hotel_information()"
   ]
  },
  {
   "cell_type": "code",
   "execution_count": 11,
   "metadata": {},
   "outputs": [
    {
     "data": {
      "text/html": [
       "<div>\n",
       "<style scoped>\n",
       "    .dataframe tbody tr th:only-of-type {\n",
       "        vertical-align: middle;\n",
       "    }\n",
       "\n",
       "    .dataframe tbody tr th {\n",
       "        vertical-align: top;\n",
       "    }\n",
       "\n",
       "    .dataframe thead th {\n",
       "        text-align: right;\n",
       "    }\n",
       "</style>\n",
       "<table border=\"1\" class=\"dataframe\">\n",
       "  <thead>\n",
       "    <tr style=\"text-align: right;\">\n",
       "      <th></th>\n",
       "      <th>name</th>\n",
       "      <th>rating</th>\n",
       "      <th>stars</th>\n",
       "      <th>price</th>\n",
       "      <th>location</th>\n",
       "      <th>distance</th>\n",
       "      <th>link</th>\n",
       "    </tr>\n",
       "  </thead>\n",
       "  <tbody>\n",
       "    <tr>\n",
       "      <th>0</th>\n",
       "      <td>chic&amp;basic Habana Hoose</td>\n",
       "      <td>8,5</td>\n",
       "      <td>3</td>\n",
       "      <td>3.023</td>\n",
       "      <td>Ciutat Vella, Barcelona</td>\n",
       "      <td>0.9</td>\n",
       "      <td>https://www.booking.com/hotel/es/chic-amp-basi...</td>\n",
       "    </tr>\n",
       "    <tr>\n",
       "      <th>1</th>\n",
       "      <td>BARCELONA GOTIC Guesthouse</td>\n",
       "      <td>7,7</td>\n",
       "      <td>1</td>\n",
       "      <td>839</td>\n",
       "      <td>Ciutat Vella, Barcelona</td>\n",
       "      <td>1.0</td>\n",
       "      <td>https://www.booking.com/hotel/es/guesthouse-ba...</td>\n",
       "    </tr>\n",
       "    <tr>\n",
       "      <th>2</th>\n",
       "      <td>Axel TWO Barcelona 4 Sup - Adults Only</td>\n",
       "      <td>8,3</td>\n",
       "      <td>4</td>\n",
       "      <td>2.331</td>\n",
       "      <td>Eixample, Barcelona</td>\n",
       "      <td>1.5</td>\n",
       "      <td>https://www.booking.com/hotel/es/two-barcelona...</td>\n",
       "    </tr>\n",
       "    <tr>\n",
       "      <th>3</th>\n",
       "      <td>Barcelonaforrent The Central Place</td>\n",
       "      <td>8,2</td>\n",
       "      <td>4</td>\n",
       "      <td>5.844</td>\n",
       "      <td>Eixample, Barcelona</td>\n",
       "      <td>0.6</td>\n",
       "      <td>https://www.booking.com/hotel/es/barcelonaforr...</td>\n",
       "    </tr>\n",
       "    <tr>\n",
       "      <th>4</th>\n",
       "      <td>Travelodge Barcelona Poblenou</td>\n",
       "      <td>7,3</td>\n",
       "      <td>1</td>\n",
       "      <td>1.490</td>\n",
       "      <td>Sant Martí, Barcelona</td>\n",
       "      <td>2.9</td>\n",
       "      <td>https://www.booking.com/hotel/es/travelodge-ba...</td>\n",
       "    </tr>\n",
       "  </tbody>\n",
       "</table>\n",
       "</div>"
      ],
      "text/plain": [
       "                                     name rating stars  price  \\\n",
       "0                 chic&basic Habana Hoose    8,5     3  3.023   \n",
       "1              BARCELONA GOTIC Guesthouse    7,7     1    839   \n",
       "2  Axel TWO Barcelona 4 Sup - Adults Only    8,3     4  2.331   \n",
       "3      Barcelonaforrent The Central Place    8,2     4  5.844   \n",
       "4           Travelodge Barcelona Poblenou    7,3     1  1.490   \n",
       "\n",
       "                  location  distance  \\\n",
       "0  Ciutat Vella, Barcelona       0.9   \n",
       "1  Ciutat Vella, Barcelona       1.0   \n",
       "2      Eixample, Barcelona       1.5   \n",
       "3      Eixample, Barcelona       0.6   \n",
       "4    Sant Martí, Barcelona       2.9   \n",
       "\n",
       "                                                link  \n",
       "0  https://www.booking.com/hotel/es/chic-amp-basi...  \n",
       "1  https://www.booking.com/hotel/es/guesthouse-ba...  \n",
       "2  https://www.booking.com/hotel/es/two-barcelona...  \n",
       "3  https://www.booking.com/hotel/es/barcelonaforr...  \n",
       "4  https://www.booking.com/hotel/es/travelodge-ba...  "
      ]
     },
     "execution_count": 11,
     "metadata": {},
     "output_type": "execute_result"
    }
   ],
   "source": [
    "df.head()"
   ]
  }
 ],
 "metadata": {
  "kernelspec": {
   "display_name": "Python 3",
   "language": "python",
   "name": "python3"
  },
  "language_info": {
   "codemirror_mode": {
    "name": "ipython",
    "version": 3
   },
   "file_extension": ".py",
   "mimetype": "text/x-python",
   "name": "python",
   "nbconvert_exporter": "python",
   "pygments_lexer": "ipython3",
   "version": "3.12.8"
  }
 },
 "nbformat": 4,
 "nbformat_minor": 2
}
